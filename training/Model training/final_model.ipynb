{
 "cells": [
  {
   "cell_type": "code",
   "execution_count": 1,
   "metadata": {},
   "outputs": [
    {
     "name": "stdout",
     "output_type": "stream",
     "text": [
      "2.1.1+cu121\n"
     ]
    }
   ],
   "source": [
    "# import needed dependencies\n",
    "\n",
    "#import yolo \n",
    "from ultralytics import YOLO\n",
    "\n",
    "# import torch \n",
    "import torch\n",
    "from torchvision import transforms\n",
    "\n",
    "# import os and PIL for model evaluation \n",
    "import os\n",
    "from PIL import Image\n",
    "\n",
    "# import cv2 for image handling\n",
    "import cv2\n",
    "\n",
    "#import numpy\n",
    "import numpy as np\n",
    "\n",
    "#chechking torch version\n",
    "print(torch.__version__)\n",
    "\n",
    "#setting manual seed\n",
    "torch.manual_seed(42)\n",
    "\n",
    "#clearing out the allocated storage used by the previous model\n",
    "torch.cuda.empty_cache()"
   ]
  },
  {
   "cell_type": "code",
   "execution_count": 4,
   "metadata": {},
   "outputs": [
    {
     "name": "stdout",
     "output_type": "stream",
     "text": [
      "freezing model.model.0.conv.weight\n",
      "\n",
      "freezing model.model.0.bn.weight\n",
      "\n",
      "freezing model.model.0.bn.bias\n",
      "\n",
      "freezing model.model.1.conv.weight\n",
      "\n",
      "freezing model.model.1.bn.weight\n",
      "\n",
      "freezing model.model.1.bn.bias\n",
      "\n",
      "freezing model.model.2.cv1.conv.weight\n",
      "\n",
      "freezing model.model.2.cv1.bn.weight\n",
      "\n",
      "freezing model.model.2.cv1.bn.bias\n",
      "\n",
      "freezing model.model.2.cv2.conv.weight\n",
      "\n",
      "freezing model.model.2.cv2.bn.weight\n",
      "\n",
      "freezing model.model.2.cv2.bn.bias\n",
      "\n",
      "freezing model.model.2.cv3.conv.weight\n",
      "\n",
      "freezing model.model.2.cv3.bn.weight\n",
      "\n",
      "freezing model.model.2.cv3.bn.bias\n",
      "\n",
      "freezing model.model.2.m.0.cv1.conv.weight\n",
      "\n",
      "freezing model.model.2.m.0.cv1.bn.weight\n",
      "\n",
      "freezing model.model.2.m.0.cv1.bn.bias\n",
      "\n",
      "freezing model.model.2.m.0.cv2.conv.weight\n",
      "\n",
      "freezing model.model.2.m.0.cv2.bn.weight\n",
      "\n",
      "freezing model.model.2.m.0.cv2.bn.bias\n",
      "\n",
      "freezing model.model.3.conv.weight\n",
      "\n",
      "freezing model.model.3.bn.weight\n",
      "\n",
      "freezing model.model.3.bn.bias\n",
      "\n",
      "freezing model.model.4.cv1.conv.weight\n",
      "\n",
      "freezing model.model.4.cv1.bn.weight\n",
      "\n",
      "freezing model.model.4.cv1.bn.bias\n",
      "\n",
      "freezing model.model.4.cv2.conv.weight\n",
      "\n",
      "freezing model.model.4.cv2.bn.weight\n",
      "\n",
      "freezing model.model.4.cv2.bn.bias\n",
      "\n",
      "freezing model.model.4.cv3.conv.weight\n",
      "\n",
      "freezing model.model.4.cv3.bn.weight\n",
      "\n",
      "freezing model.model.4.cv3.bn.bias\n",
      "\n",
      "freezing model.model.4.m.0.cv1.conv.weight\n",
      "\n",
      "freezing model.model.4.m.0.cv1.bn.weight\n",
      "\n",
      "freezing model.model.4.m.0.cv1.bn.bias\n",
      "\n",
      "freezing model.model.4.m.0.cv2.conv.weight\n",
      "\n",
      "freezing model.model.4.m.0.cv2.bn.weight\n",
      "\n",
      "freezing model.model.4.m.0.cv2.bn.bias\n",
      "\n",
      "freezing model.model.4.m.1.cv1.conv.weight\n",
      "\n",
      "freezing model.model.4.m.1.cv1.bn.weight\n",
      "\n",
      "freezing model.model.4.m.1.cv1.bn.bias\n",
      "\n",
      "freezing model.model.4.m.1.cv2.conv.weight\n",
      "\n",
      "freezing model.model.4.m.1.cv2.bn.weight\n",
      "\n",
      "freezing model.model.4.m.1.cv2.bn.bias\n",
      "\n",
      "freezing model.model.5.conv.weight\n",
      "\n",
      "freezing model.model.5.bn.weight\n",
      "\n",
      "freezing model.model.5.bn.bias\n",
      "\n",
      "freezing model.model.6.cv1.conv.weight\n",
      "\n",
      "freezing model.model.6.cv1.bn.weight\n",
      "\n",
      "freezing model.model.6.cv1.bn.bias\n",
      "\n",
      "freezing model.model.6.cv2.conv.weight\n",
      "\n",
      "freezing model.model.6.cv2.bn.weight\n",
      "\n",
      "freezing model.model.6.cv2.bn.bias\n",
      "\n",
      "freezing model.model.6.cv3.conv.weight\n",
      "\n",
      "freezing model.model.6.cv3.bn.weight\n",
      "\n",
      "freezing model.model.6.cv3.bn.bias\n",
      "\n",
      "freezing model.model.6.m.0.cv1.conv.weight\n",
      "\n",
      "freezing model.model.6.m.0.cv1.bn.weight\n",
      "\n",
      "freezing model.model.6.m.0.cv1.bn.bias\n",
      "\n",
      "freezing model.model.6.m.0.cv2.conv.weight\n",
      "\n",
      "freezing model.model.6.m.0.cv2.bn.weight\n",
      "\n",
      "freezing model.model.6.m.0.cv2.bn.bias\n",
      "\n",
      "freezing model.model.6.m.1.cv1.conv.weight\n",
      "\n",
      "freezing model.model.6.m.1.cv1.bn.weight\n",
      "\n",
      "freezing model.model.6.m.1.cv1.bn.bias\n",
      "\n",
      "freezing model.model.6.m.1.cv2.conv.weight\n",
      "\n",
      "freezing model.model.6.m.1.cv2.bn.weight\n",
      "\n",
      "freezing model.model.6.m.1.cv2.bn.bias\n",
      "\n",
      "freezing model.model.6.m.2.cv1.conv.weight\n",
      "\n",
      "freezing model.model.6.m.2.cv1.bn.weight\n",
      "\n",
      "freezing model.model.6.m.2.cv1.bn.bias\n",
      "\n",
      "freezing model.model.6.m.2.cv2.conv.weight\n",
      "\n",
      "freezing model.model.6.m.2.cv2.bn.weight\n",
      "\n",
      "freezing model.model.6.m.2.cv2.bn.bias\n",
      "\n",
      "freezing model.model.7.conv.weight\n",
      "\n",
      "freezing model.model.7.bn.weight\n",
      "\n",
      "freezing model.model.7.bn.bias\n",
      "\n",
      "freezing model.model.8.cv1.conv.weight\n",
      "\n",
      "freezing model.model.8.cv1.bn.weight\n",
      "\n",
      "freezing model.model.8.cv1.bn.bias\n",
      "\n",
      "freezing model.model.8.cv2.conv.weight\n",
      "\n",
      "freezing model.model.8.cv2.bn.weight\n",
      "\n",
      "freezing model.model.8.cv2.bn.bias\n",
      "\n",
      "freezing model.model.8.cv3.conv.weight\n",
      "\n",
      "freezing model.model.8.cv3.bn.weight\n",
      "\n",
      "freezing model.model.8.cv3.bn.bias\n",
      "\n",
      "freezing model.model.8.m.0.cv1.conv.weight\n",
      "\n",
      "freezing model.model.8.m.0.cv1.bn.weight\n",
      "\n",
      "freezing model.model.8.m.0.cv1.bn.bias\n",
      "\n",
      "freezing model.model.8.m.0.cv2.conv.weight\n",
      "\n",
      "freezing model.model.8.m.0.cv2.bn.weight\n",
      "\n",
      "freezing model.model.8.m.0.cv2.bn.bias\n",
      "\n",
      "freezing model.model.9.cv1.conv.weight\n",
      "\n",
      "freezing model.model.9.cv1.bn.weight\n",
      "\n",
      "freezing model.model.9.cv1.bn.bias\n",
      "\n",
      "freezing model.model.9.cv2.conv.weight\n",
      "\n",
      "freezing model.model.9.cv2.bn.weight\n",
      "\n",
      "freezing model.model.9.cv2.bn.bias\n",
      "\n"
     ]
    }
   ],
   "source": [
    "# instantiating a model from a pretrained yolo version 5 small model\n",
    "final_model = YOLO('yolov5su.pt')\n",
    "\n",
    "#freezing the backbone layers so we get use of the tranfer learning \n",
    "freeze = 10 \n",
    "freeze = [f'model.{x}.' for x in range(freeze)]\n",
    "for k, v in final_model.named_parameters():\n",
    "    v.requires_grad = True\n",
    "    if any(x in k for x in freeze):\n",
    "        print(f\"freezing {k}\\n\")\n",
    "        v.requires_grad = False\n"
   ]
  },
  {
   "cell_type": "code",
   "execution_count": 5,
   "metadata": {},
   "outputs": [
    {
     "name": "stdout",
     "output_type": "stream",
     "text": [
      "New https://pypi.org/project/ultralytics/8.1.14 available 😃 Update with 'pip install -U ultralytics'\n",
      "Ultralytics YOLOv8.1.12 🚀 Python-3.11.6 torch-2.1.1+cu121 CPU (Intel Core(TM) i7-9750H 2.60GHz)\n",
      "\u001b[34m\u001b[1mengine\\trainer: \u001b[0mtask=detect, mode=train, model=yolov5su.pt, data=data.yaml, epochs=100, time=None, patience=50, batch=16, imgsz=640, save=True, save_period=-1, cache=False, device=cpu, workers=8, project=None, name=train6, exist_ok=False, pretrained=True, optimizer=SGD, verbose=True, seed=0, deterministic=True, single_cls=False, rect=False, cos_lr=False, close_mosaic=10, resume=False, amp=True, fraction=1.0, profile=False, freeze=None, multi_scale=False, overlap_mask=True, mask_ratio=4, dropout=0.0, val=True, split=val, save_json=False, save_hybrid=False, conf=None, iou=0.7, max_det=300, half=False, dnn=False, plots=True, source=None, vid_stride=1, stream_buffer=False, visualize=False, augment=False, agnostic_nms=False, classes=None, retina_masks=False, embed=None, show=False, save_frames=False, save_txt=False, save_conf=False, save_crop=False, show_labels=True, show_conf=True, show_boxes=True, line_width=None, format=torchscript, keras=False, optimize=False, int8=False, dynamic=False, simplify=False, opset=None, workspace=4, nms=False, lr0=0.01, lrf=0.01, momentum=0.937, weight_decay=0.0005, warmup_epochs=3.0, warmup_momentum=0.8, warmup_bias_lr=0.1, box=7.5, cls=0.5, dfl=1.5, pose=12.0, kobj=1.0, label_smoothing=0.0, nbs=64, hsv_h=0.015, hsv_s=0.7, hsv_v=0.4, degrees=0.0, translate=0.1, scale=0.5, shear=0.0, perspective=0.0, flipud=0.0, fliplr=0.5, mosaic=1.0, mixup=0.0, copy_paste=0.0, auto_augment=randaugment, erasing=0.4, crop_fraction=1.0, cfg=None, tracker=botsort.yaml, save_dir=runs\\detect\\train6\n",
      "Overriding model.yaml nc=80 with nc=3\n",
      "\n",
      "                   from  n    params  module                                       arguments                     \n",
      "  0                  -1  1      3520  ultralytics.nn.modules.conv.Conv             [3, 32, 6, 2, 2]              \n",
      "  1                  -1  1     18560  ultralytics.nn.modules.conv.Conv             [32, 64, 3, 2]                \n",
      "  2                  -1  1     18816  ultralytics.nn.modules.block.C3              [64, 64, 1]                   \n",
      "  3                  -1  1     73984  ultralytics.nn.modules.conv.Conv             [64, 128, 3, 2]               \n",
      "  4                  -1  2    115712  ultralytics.nn.modules.block.C3              [128, 128, 2]                 \n",
      "  5                  -1  1    295424  ultralytics.nn.modules.conv.Conv             [128, 256, 3, 2]              \n",
      "  6                  -1  3    625152  ultralytics.nn.modules.block.C3              [256, 256, 3]                 \n",
      "  7                  -1  1   1180672  ultralytics.nn.modules.conv.Conv             [256, 512, 3, 2]              \n",
      "  8                  -1  1   1182720  ultralytics.nn.modules.block.C3              [512, 512, 1]                 \n",
      "  9                  -1  1    656896  ultralytics.nn.modules.block.SPPF            [512, 512, 5]                 \n",
      " 10                  -1  1    131584  ultralytics.nn.modules.conv.Conv             [512, 256, 1, 1]              \n",
      " 11                  -1  1         0  torch.nn.modules.upsampling.Upsample         [None, 2, 'nearest']          \n",
      " 12             [-1, 6]  1         0  ultralytics.nn.modules.conv.Concat           [1]                           \n",
      " 13                  -1  1    361984  ultralytics.nn.modules.block.C3              [512, 256, 1, False]          \n",
      " 14                  -1  1     33024  ultralytics.nn.modules.conv.Conv             [256, 128, 1, 1]              \n",
      " 15                  -1  1         0  torch.nn.modules.upsampling.Upsample         [None, 2, 'nearest']          \n",
      " 16             [-1, 4]  1         0  ultralytics.nn.modules.conv.Concat           [1]                           \n",
      " 17                  -1  1     90880  ultralytics.nn.modules.block.C3              [256, 128, 1, False]          \n",
      " 18                  -1  1    147712  ultralytics.nn.modules.conv.Conv             [128, 128, 3, 2]              \n",
      " 19            [-1, 14]  1         0  ultralytics.nn.modules.conv.Concat           [1]                           \n",
      " 20                  -1  1    296448  ultralytics.nn.modules.block.C3              [256, 256, 1, False]          \n",
      " 21                  -1  1    590336  ultralytics.nn.modules.conv.Conv             [256, 256, 3, 2]              \n",
      " 22            [-1, 10]  1         0  ultralytics.nn.modules.conv.Concat           [1]                           \n",
      " 23                  -1  1   1182720  ultralytics.nn.modules.block.C3              [512, 512, 1, False]          \n",
      " 24        [17, 20, 23]  1   2117209  ultralytics.nn.modules.head.Detect           [3, [128, 256, 512]]          \n",
      "YOLOv5s summary: 262 layers, 9123353 parameters, 9123337 gradients, 24.0 GFLOPs\n",
      "\n",
      "Transferred 421/427 items from pretrained weights\n",
      "WARNING ⚠️ Comet installed but not initialized correctly, not logging this run. Comet.ml requires an API key. Please provide as the first argument to Experiment(api_key) or as an environment variable named COMET_API_KEY \n",
      "\u001b[34m\u001b[1mTensorBoard: \u001b[0mStart with 'tensorboard --logdir runs\\detect\\train6', view at http://localhost:6006/\n",
      "Freezing layer 'model.24.dfl.conv.weight'\n"
     ]
    },
    {
     "name": "stderr",
     "output_type": "stream",
     "text": [
      "\u001b[34m\u001b[1mtrain: \u001b[0mScanning C:\\Users\\omarm\\Desktop\\bottle_detection-1\\train\\labels.cache... 631 images, 17 backgrounds, 0 corrupt: 100%|██████████| 631/631 [00:00<?, ?it/s]\n",
      "\u001b[34m\u001b[1mval: \u001b[0mScanning C:\\Users\\omarm\\Desktop\\bottle_detection-1\\valid\\labels.cache... 66 images, 1 backgrounds, 0 corrupt: 100%|██████████| 66/66 [00:00<?, ?it/s]\n"
     ]
    },
    {
     "name": "stdout",
     "output_type": "stream",
     "text": [
      "Plotting labels to runs\\detect\\train6\\labels.jpg... \n",
      "\u001b[34m\u001b[1moptimizer:\u001b[0m SGD(lr=0.01, momentum=0.937) with parameter groups 69 weight(decay=0.0), 76 weight(decay=0.0005), 75 bias(decay=0.0)\n",
      "\u001b[34m\u001b[1mTensorBoard: \u001b[0mmodel graph visualization added ✅\n",
      "Image sizes 640 train, 640 val\n",
      "Using 0 dataloader workers\n",
      "Logging results to \u001b[1mruns\\detect\\train6\u001b[0m\n",
      "Starting training for 100 epochs...\n",
      "\n",
      "      Epoch    GPU_mem   box_loss   cls_loss   dfl_loss  Instances       Size\n"
     ]
    },
    {
     "name": "stderr",
     "output_type": "stream",
     "text": [
      "      1/100         0G      1.181      2.867      1.553         18        640: 100%|██████████| 40/40 [07:21<00:00, 11.04s/it]\n",
      "                 Class     Images  Instances      Box(P          R      mAP50  mAP50-95): 100%|██████████| 3/3 [00:17<00:00,  5.99s/it]"
     ]
    },
    {
     "name": "stdout",
     "output_type": "stream",
     "text": [
      "                   all         66         75      0.357      0.431      0.331      0.241\n"
     ]
    },
    {
     "name": "stderr",
     "output_type": "stream",
     "text": [
      "\n"
     ]
    },
    {
     "name": "stdout",
     "output_type": "stream",
     "text": [
      "\n",
      "      Epoch    GPU_mem   box_loss   cls_loss   dfl_loss  Instances       Size\n"
     ]
    },
    {
     "name": "stderr",
     "output_type": "stream",
     "text": [
      "      2/100         0G     0.9722      1.765      1.339         18        640: 100%|██████████| 40/40 [07:23<00:00, 11.10s/it]\n",
      "                 Class     Images  Instances      Box(P          R      mAP50  mAP50-95): 100%|██████████| 3/3 [00:17<00:00,  5.98s/it]"
     ]
    },
    {
     "name": "stdout",
     "output_type": "stream",
     "text": [
      "                   all         66         75      0.535      0.342      0.204       0.12\n"
     ]
    },
    {
     "name": "stderr",
     "output_type": "stream",
     "text": [
      "\n"
     ]
    },
    {
     "name": "stdout",
     "output_type": "stream",
     "text": [
      "\n",
      "      Epoch    GPU_mem   box_loss   cls_loss   dfl_loss  Instances       Size\n"
     ]
    },
    {
     "name": "stderr",
     "output_type": "stream",
     "text": [
      "      3/100         0G     0.9788      1.446      1.327         16        640: 100%|██████████| 40/40 [08:11<00:00, 12.29s/it]\n",
      "                 Class     Images  Instances      Box(P          R      mAP50  mAP50-95): 100%|██████████| 3/3 [00:20<00:00,  6.74s/it]"
     ]
    },
    {
     "name": "stdout",
     "output_type": "stream",
     "text": [
      "                   all         66         75      0.392      0.315      0.318      0.176\n"
     ]
    },
    {
     "name": "stderr",
     "output_type": "stream",
     "text": [
      "\n"
     ]
    },
    {
     "name": "stdout",
     "output_type": "stream",
     "text": [
      "\n",
      "      Epoch    GPU_mem   box_loss   cls_loss   dfl_loss  Instances       Size\n"
     ]
    },
    {
     "name": "stderr",
     "output_type": "stream",
     "text": [
      "      4/100         0G      1.018      1.293      1.319         23        640: 100%|██████████| 40/40 [07:49<00:00, 11.73s/it]\n",
      "                 Class     Images  Instances      Box(P          R      mAP50  mAP50-95): 100%|██████████| 3/3 [00:17<00:00,  5.88s/it]"
     ]
    },
    {
     "name": "stdout",
     "output_type": "stream",
     "text": [
      "                   all         66         75      0.424      0.254      0.202      0.084\n"
     ]
    },
    {
     "name": "stderr",
     "output_type": "stream",
     "text": [
      "\n"
     ]
    },
    {
     "name": "stdout",
     "output_type": "stream",
     "text": [
      "\n",
      "      Epoch    GPU_mem   box_loss   cls_loss   dfl_loss  Instances       Size\n"
     ]
    },
    {
     "name": "stderr",
     "output_type": "stream",
     "text": [
      "      5/100         0G      1.063      1.263      1.367         12        640: 100%|██████████| 40/40 [07:35<00:00, 11.38s/it]\n",
      "                 Class     Images  Instances      Box(P          R      mAP50  mAP50-95): 100%|██████████| 3/3 [00:18<00:00,  6.15s/it]"
     ]
    },
    {
     "name": "stdout",
     "output_type": "stream",
     "text": [
      "                   all         66         75      0.585      0.399      0.417      0.205\n"
     ]
    },
    {
     "name": "stderr",
     "output_type": "stream",
     "text": [
      "\n"
     ]
    },
    {
     "name": "stdout",
     "output_type": "stream",
     "text": [
      "\n",
      "      Epoch    GPU_mem   box_loss   cls_loss   dfl_loss  Instances       Size\n"
     ]
    },
    {
     "name": "stderr",
     "output_type": "stream",
     "text": [
      "      6/100         0G       1.06      1.178      1.357         19        640: 100%|██████████| 40/40 [07:53<00:00, 11.84s/it]\n",
      "                 Class     Images  Instances      Box(P          R      mAP50  mAP50-95): 100%|██████████| 3/3 [00:19<00:00,  6.38s/it]"
     ]
    },
    {
     "name": "stdout",
     "output_type": "stream",
     "text": [
      "                   all         66         75       0.59      0.453      0.503      0.336\n"
     ]
    },
    {
     "name": "stderr",
     "output_type": "stream",
     "text": [
      "\n"
     ]
    },
    {
     "name": "stdout",
     "output_type": "stream",
     "text": [
      "\n",
      "      Epoch    GPU_mem   box_loss   cls_loss   dfl_loss  Instances       Size\n"
     ]
    },
    {
     "name": "stderr",
     "output_type": "stream",
     "text": [
      "      7/100         0G      1.094      1.251        1.4         22        640: 100%|██████████| 40/40 [07:43<00:00, 11.58s/it]\n",
      "                 Class     Images  Instances      Box(P          R      mAP50  mAP50-95): 100%|██████████| 3/3 [00:18<00:00,  6.29s/it]"
     ]
    },
    {
     "name": "stdout",
     "output_type": "stream",
     "text": [
      "                   all         66         75      0.839      0.537      0.687      0.488\n"
     ]
    },
    {
     "name": "stderr",
     "output_type": "stream",
     "text": [
      "\n"
     ]
    },
    {
     "name": "stdout",
     "output_type": "stream",
     "text": [
      "\n",
      "      Epoch    GPU_mem   box_loss   cls_loss   dfl_loss  Instances       Size\n"
     ]
    },
    {
     "name": "stderr",
     "output_type": "stream",
     "text": [
      "      8/100         0G      1.043      1.115      1.336         18        640: 100%|██████████| 40/40 [07:30<00:00, 11.26s/it]\n",
      "                 Class     Images  Instances      Box(P          R      mAP50  mAP50-95): 100%|██████████| 3/3 [00:18<00:00,  6.06s/it]"
     ]
    },
    {
     "name": "stdout",
     "output_type": "stream",
     "text": [
      "                   all         66         75      0.583      0.624      0.522       0.35\n"
     ]
    },
    {
     "name": "stderr",
     "output_type": "stream",
     "text": [
      "\n"
     ]
    },
    {
     "name": "stdout",
     "output_type": "stream",
     "text": [
      "\n",
      "      Epoch    GPU_mem   box_loss   cls_loss   dfl_loss  Instances       Size\n"
     ]
    },
    {
     "name": "stderr",
     "output_type": "stream",
     "text": [
      "      9/100         0G      1.018       1.16      1.336         15        640: 100%|██████████| 40/40 [08:36<00:00, 12.90s/it]\n",
      "                 Class     Images  Instances      Box(P          R      mAP50  mAP50-95): 100%|██████████| 3/3 [00:28<00:00,  9.44s/it]\n"
     ]
    },
    {
     "name": "stdout",
     "output_type": "stream",
     "text": [
      "                   all         66         75      0.703      0.483      0.637      0.415\n",
      "\n",
      "      Epoch    GPU_mem   box_loss   cls_loss   dfl_loss  Instances       Size\n"
     ]
    },
    {
     "name": "stderr",
     "output_type": "stream",
     "text": [
      "     10/100         0G      1.025      1.139      1.335         20        640: 100%|██████████| 40/40 [13:14<00:00, 19.87s/it]\n",
      "                 Class     Images  Instances      Box(P          R      mAP50  mAP50-95): 100%|██████████| 3/3 [00:36<00:00, 12.09s/it]\n"
     ]
    },
    {
     "name": "stdout",
     "output_type": "stream",
     "text": [
      "                   all         66         75      0.639      0.655      0.669      0.463\n",
      "\n",
      "      Epoch    GPU_mem   box_loss   cls_loss   dfl_loss  Instances       Size\n"
     ]
    },
    {
     "name": "stderr",
     "output_type": "stream",
     "text": [
      "     11/100         0G     0.9805       1.05      1.273         25        640: 100%|██████████| 40/40 [11:35<00:00, 17.39s/it]\n",
      "                 Class     Images  Instances      Box(P          R      mAP50  mAP50-95): 100%|██████████| 3/3 [00:25<00:00,  8.46s/it]"
     ]
    },
    {
     "name": "stdout",
     "output_type": "stream",
     "text": [
      "                   all         66         75      0.453       0.53      0.502      0.256\n"
     ]
    },
    {
     "name": "stderr",
     "output_type": "stream",
     "text": [
      "\n"
     ]
    },
    {
     "name": "stdout",
     "output_type": "stream",
     "text": [
      "\n",
      "      Epoch    GPU_mem   box_loss   cls_loss   dfl_loss  Instances       Size\n"
     ]
    },
    {
     "name": "stderr",
     "output_type": "stream",
     "text": [
      "     12/100         0G      1.007       1.08      1.303         12        640: 100%|██████████| 40/40 [10:40<00:00, 16.01s/it]\n",
      "                 Class     Images  Instances      Box(P          R      mAP50  mAP50-95): 100%|██████████| 3/3 [00:24<00:00,  8.01s/it]\n"
     ]
    },
    {
     "name": "stdout",
     "output_type": "stream",
     "text": [
      "                   all         66         75      0.417       0.45      0.404      0.262\n",
      "\n",
      "      Epoch    GPU_mem   box_loss   cls_loss   dfl_loss  Instances       Size\n"
     ]
    },
    {
     "name": "stderr",
     "output_type": "stream",
     "text": [
      "     13/100         0G     0.9957      1.114      1.319         20        640: 100%|██████████| 40/40 [11:02<00:00, 16.57s/it]\n",
      "                 Class     Images  Instances      Box(P          R      mAP50  mAP50-95): 100%|██████████| 3/3 [00:20<00:00,  6.70s/it]"
     ]
    },
    {
     "name": "stdout",
     "output_type": "stream",
     "text": [
      "                   all         66         75      0.528      0.631      0.568      0.349\n"
     ]
    },
    {
     "name": "stderr",
     "output_type": "stream",
     "text": [
      "\n"
     ]
    },
    {
     "name": "stdout",
     "output_type": "stream",
     "text": [
      "\n",
      "      Epoch    GPU_mem   box_loss   cls_loss   dfl_loss  Instances       Size\n"
     ]
    },
    {
     "name": "stderr",
     "output_type": "stream",
     "text": [
      "     14/100         0G     0.9868     0.9881      1.289         16        640: 100%|██████████| 40/40 [08:00<00:00, 12.02s/it]\n",
      "                 Class     Images  Instances      Box(P          R      mAP50  mAP50-95): 100%|██████████| 3/3 [00:19<00:00,  6.49s/it]"
     ]
    },
    {
     "name": "stdout",
     "output_type": "stream",
     "text": [
      "                   all         66         75       0.75      0.738      0.787      0.603\n"
     ]
    },
    {
     "name": "stderr",
     "output_type": "stream",
     "text": [
      "\n"
     ]
    },
    {
     "name": "stdout",
     "output_type": "stream",
     "text": [
      "\n",
      "      Epoch    GPU_mem   box_loss   cls_loss   dfl_loss  Instances       Size\n"
     ]
    },
    {
     "name": "stderr",
     "output_type": "stream",
     "text": [
      "     15/100         0G      0.986      1.015       1.29         19        640: 100%|██████████| 40/40 [08:09<00:00, 12.24s/it]\n",
      "                 Class     Images  Instances      Box(P          R      mAP50  mAP50-95): 100%|██████████| 3/3 [00:18<00:00,  6.24s/it]"
     ]
    },
    {
     "name": "stdout",
     "output_type": "stream",
     "text": [
      "                   all         66         75      0.875      0.782       0.84      0.563\n"
     ]
    },
    {
     "name": "stderr",
     "output_type": "stream",
     "text": [
      "\n"
     ]
    },
    {
     "name": "stdout",
     "output_type": "stream",
     "text": [
      "\n",
      "      Epoch    GPU_mem   box_loss   cls_loss   dfl_loss  Instances       Size\n"
     ]
    },
    {
     "name": "stderr",
     "output_type": "stream",
     "text": [
      "     16/100         0G     0.9517      1.017      1.293         14        640: 100%|██████████| 40/40 [07:52<00:00, 11.82s/it]\n",
      "                 Class     Images  Instances      Box(P          R      mAP50  mAP50-95): 100%|██████████| 3/3 [00:18<00:00,  6.32s/it]"
     ]
    },
    {
     "name": "stdout",
     "output_type": "stream",
     "text": [
      "                   all         66         75      0.649      0.589      0.683      0.494\n"
     ]
    },
    {
     "name": "stderr",
     "output_type": "stream",
     "text": [
      "\n"
     ]
    },
    {
     "name": "stdout",
     "output_type": "stream",
     "text": [
      "\n",
      "      Epoch    GPU_mem   box_loss   cls_loss   dfl_loss  Instances       Size\n"
     ]
    },
    {
     "name": "stderr",
     "output_type": "stream",
     "text": [
      "     17/100         0G     0.9446     0.9553      1.277         20        640: 100%|██████████| 40/40 [08:03<00:00, 12.10s/it]\n",
      "                 Class     Images  Instances      Box(P          R      mAP50  mAP50-95): 100%|██████████| 3/3 [00:20<00:00,  6.93s/it]"
     ]
    },
    {
     "name": "stdout",
     "output_type": "stream",
     "text": [
      "                   all         66         75      0.824      0.833       0.92      0.665\n"
     ]
    },
    {
     "name": "stderr",
     "output_type": "stream",
     "text": [
      "\n"
     ]
    },
    {
     "name": "stdout",
     "output_type": "stream",
     "text": [
      "\n",
      "      Epoch    GPU_mem   box_loss   cls_loss   dfl_loss  Instances       Size\n"
     ]
    },
    {
     "name": "stderr",
     "output_type": "stream",
     "text": [
      "     18/100         0G     0.9574     0.9406      1.268         24        640: 100%|██████████| 40/40 [08:19<00:00, 12.49s/it]\n",
      "                 Class     Images  Instances      Box(P          R      mAP50  mAP50-95): 100%|██████████| 3/3 [00:19<00:00,  6.51s/it]\n"
     ]
    },
    {
     "name": "stdout",
     "output_type": "stream",
     "text": [
      "                   all         66         75      0.749      0.685      0.789      0.592\n",
      "\n",
      "      Epoch    GPU_mem   box_loss   cls_loss   dfl_loss  Instances       Size\n"
     ]
    },
    {
     "name": "stderr",
     "output_type": "stream",
     "text": [
      "     19/100         0G     0.9561      0.959      1.267         17        640: 100%|██████████| 40/40 [07:32<00:00, 11.31s/it]\n",
      "                 Class     Images  Instances      Box(P          R      mAP50  mAP50-95): 100%|██████████| 3/3 [00:17<00:00,  5.67s/it]"
     ]
    },
    {
     "name": "stdout",
     "output_type": "stream",
     "text": [
      "                   all         66         75      0.797      0.718      0.812      0.627\n"
     ]
    },
    {
     "name": "stderr",
     "output_type": "stream",
     "text": [
      "\n"
     ]
    },
    {
     "name": "stdout",
     "output_type": "stream",
     "text": [
      "\n",
      "      Epoch    GPU_mem   box_loss   cls_loss   dfl_loss  Instances       Size\n"
     ]
    },
    {
     "name": "stderr",
     "output_type": "stream",
     "text": [
      "     20/100         0G     0.9359     0.9239      1.244         16        640: 100%|██████████| 40/40 [07:11<00:00, 10.78s/it]\n",
      "                 Class     Images  Instances      Box(P          R      mAP50  mAP50-95): 100%|██████████| 3/3 [00:17<00:00,  5.73s/it]"
     ]
    },
    {
     "name": "stdout",
     "output_type": "stream",
     "text": [
      "                   all         66         75       0.78      0.655      0.784      0.553\n"
     ]
    },
    {
     "name": "stderr",
     "output_type": "stream",
     "text": [
      "\n"
     ]
    },
    {
     "name": "stdout",
     "output_type": "stream",
     "text": [
      "\n",
      "      Epoch    GPU_mem   box_loss   cls_loss   dfl_loss  Instances       Size\n"
     ]
    },
    {
     "name": "stderr",
     "output_type": "stream",
     "text": [
      "     21/100         0G     0.9322     0.8998      1.252         19        640: 100%|██████████| 40/40 [07:08<00:00, 10.70s/it]\n",
      "                 Class     Images  Instances      Box(P          R      mAP50  mAP50-95): 100%|██████████| 3/3 [00:17<00:00,  5.70s/it]\n"
     ]
    },
    {
     "name": "stdout",
     "output_type": "stream",
     "text": [
      "                   all         66         75      0.869      0.766      0.893      0.642\n",
      "\n",
      "      Epoch    GPU_mem   box_loss   cls_loss   dfl_loss  Instances       Size\n"
     ]
    },
    {
     "name": "stderr",
     "output_type": "stream",
     "text": [
      "     22/100         0G     0.9265     0.8651      1.245         20        640: 100%|██████████| 40/40 [07:12<00:00, 10.82s/it]\n",
      "                 Class     Images  Instances      Box(P          R      mAP50  mAP50-95): 100%|██████████| 3/3 [00:18<00:00,  6.11s/it]"
     ]
    },
    {
     "name": "stdout",
     "output_type": "stream",
     "text": [
      "                   all         66         75      0.933      0.722      0.894      0.642\n"
     ]
    },
    {
     "name": "stderr",
     "output_type": "stream",
     "text": [
      "\n"
     ]
    },
    {
     "name": "stdout",
     "output_type": "stream",
     "text": [
      "\n",
      "      Epoch    GPU_mem   box_loss   cls_loss   dfl_loss  Instances       Size\n"
     ]
    },
    {
     "name": "stderr",
     "output_type": "stream",
     "text": [
      "     23/100         0G     0.9071     0.8736      1.227         12        640: 100%|██████████| 40/40 [07:50<00:00, 11.77s/it]\n",
      "                 Class     Images  Instances      Box(P          R      mAP50  mAP50-95): 100%|██████████| 3/3 [00:20<00:00,  6.77s/it]\n"
     ]
    },
    {
     "name": "stdout",
     "output_type": "stream",
     "text": [
      "                   all         66         75       0.85      0.702      0.763      0.531\n",
      "\n",
      "      Epoch    GPU_mem   box_loss   cls_loss   dfl_loss  Instances       Size\n"
     ]
    },
    {
     "name": "stderr",
     "output_type": "stream",
     "text": [
      "     24/100         0G     0.9166     0.8804      1.238         21        640: 100%|██████████| 40/40 [08:04<00:00, 12.10s/it]\n",
      "                 Class     Images  Instances      Box(P          R      mAP50  mAP50-95): 100%|██████████| 3/3 [00:19<00:00,  6.49s/it]"
     ]
    },
    {
     "name": "stdout",
     "output_type": "stream",
     "text": [
      "                   all         66         75      0.694      0.702        0.7      0.527\n"
     ]
    },
    {
     "name": "stderr",
     "output_type": "stream",
     "text": [
      "\n"
     ]
    },
    {
     "name": "stdout",
     "output_type": "stream",
     "text": [
      "\n",
      "      Epoch    GPU_mem   box_loss   cls_loss   dfl_loss  Instances       Size\n"
     ]
    },
    {
     "name": "stderr",
     "output_type": "stream",
     "text": [
      "     25/100         0G     0.8826      0.856      1.233         17        640: 100%|██████████| 40/40 [07:54<00:00, 11.85s/it]\n",
      "                 Class     Images  Instances      Box(P          R      mAP50  mAP50-95): 100%|██████████| 3/3 [00:18<00:00,  6.06s/it]"
     ]
    },
    {
     "name": "stdout",
     "output_type": "stream",
     "text": [
      "                   all         66         75      0.859      0.817       0.88      0.666\n"
     ]
    },
    {
     "name": "stderr",
     "output_type": "stream",
     "text": [
      "\n"
     ]
    },
    {
     "name": "stdout",
     "output_type": "stream",
     "text": [
      "\n",
      "      Epoch    GPU_mem   box_loss   cls_loss   dfl_loss  Instances       Size\n"
     ]
    },
    {
     "name": "stderr",
     "output_type": "stream",
     "text": [
      "     26/100         0G     0.8881     0.8326      1.231         15        640: 100%|██████████| 40/40 [08:04<00:00, 12.10s/it]\n",
      "                 Class     Images  Instances      Box(P          R      mAP50  mAP50-95): 100%|██████████| 3/3 [00:18<00:00,  6.21s/it]"
     ]
    },
    {
     "name": "stdout",
     "output_type": "stream",
     "text": [
      "                   all         66         75      0.891      0.825      0.891      0.682\n"
     ]
    },
    {
     "name": "stderr",
     "output_type": "stream",
     "text": [
      "\n"
     ]
    },
    {
     "name": "stdout",
     "output_type": "stream",
     "text": [
      "\n",
      "      Epoch    GPU_mem   box_loss   cls_loss   dfl_loss  Instances       Size\n"
     ]
    },
    {
     "name": "stderr",
     "output_type": "stream",
     "text": [
      "     27/100         0G     0.8644     0.7842      1.203         20        640: 100%|██████████| 40/40 [07:40<00:00, 11.51s/it]\n",
      "                 Class     Images  Instances      Box(P          R      mAP50  mAP50-95): 100%|██████████| 3/3 [00:17<00:00,  5.83s/it]"
     ]
    },
    {
     "name": "stdout",
     "output_type": "stream",
     "text": [
      "                   all         66         75       0.93      0.807      0.881      0.669\n"
     ]
    },
    {
     "name": "stderr",
     "output_type": "stream",
     "text": [
      "\n"
     ]
    },
    {
     "name": "stdout",
     "output_type": "stream",
     "text": [
      "\n",
      "      Epoch    GPU_mem   box_loss   cls_loss   dfl_loss  Instances       Size\n"
     ]
    },
    {
     "name": "stderr",
     "output_type": "stream",
     "text": [
      "     28/100         0G       0.87     0.8092      1.211         15        640: 100%|██████████| 40/40 [08:34<00:00, 12.87s/it]\n",
      "                 Class     Images  Instances      Box(P          R      mAP50  mAP50-95): 100%|██████████| 3/3 [02:33<00:00, 51.32s/it] \n"
     ]
    },
    {
     "name": "stdout",
     "output_type": "stream",
     "text": [
      "                   all         66         75      0.948       0.81      0.884      0.638\n",
      "\n",
      "      Epoch    GPU_mem   box_loss   cls_loss   dfl_loss  Instances       Size\n"
     ]
    },
    {
     "name": "stderr",
     "output_type": "stream",
     "text": [
      "     29/100         0G     0.8915     0.8204      1.224         18        640: 100%|██████████| 40/40 [08:00<00:00, 12.01s/it]\n",
      "                 Class     Images  Instances      Box(P          R      mAP50  mAP50-95): 100%|██████████| 3/3 [00:18<00:00,  6.26s/it]"
     ]
    },
    {
     "name": "stdout",
     "output_type": "stream",
     "text": [
      "                   all         66         75       0.85      0.833      0.874       0.68\n"
     ]
    },
    {
     "name": "stderr",
     "output_type": "stream",
     "text": [
      "\n"
     ]
    },
    {
     "name": "stdout",
     "output_type": "stream",
     "text": [
      "\n",
      "      Epoch    GPU_mem   box_loss   cls_loss   dfl_loss  Instances       Size\n"
     ]
    },
    {
     "name": "stderr",
     "output_type": "stream",
     "text": [
      "     30/100         0G     0.8383     0.7783      1.207         14        640: 100%|██████████| 40/40 [07:55<00:00, 11.89s/it]\n",
      "                 Class     Images  Instances      Box(P          R      mAP50  mAP50-95): 100%|██████████| 3/3 [00:19<00:00,  6.66s/it]"
     ]
    },
    {
     "name": "stdout",
     "output_type": "stream",
     "text": [
      "                   all         66         75      0.837      0.805      0.855      0.671\n"
     ]
    },
    {
     "name": "stderr",
     "output_type": "stream",
     "text": [
      "\n"
     ]
    },
    {
     "name": "stdout",
     "output_type": "stream",
     "text": [
      "\n",
      "      Epoch    GPU_mem   box_loss   cls_loss   dfl_loss  Instances       Size\n"
     ]
    },
    {
     "name": "stderr",
     "output_type": "stream",
     "text": [
      "     31/100         0G     0.8677     0.8232        1.2         19        640: 100%|██████████| 40/40 [08:07<00:00, 12.18s/it]\n",
      "                 Class     Images  Instances      Box(P          R      mAP50  mAP50-95): 100%|██████████| 3/3 [00:19<00:00,  6.61s/it]"
     ]
    },
    {
     "name": "stdout",
     "output_type": "stream",
     "text": [
      "                   all         66         75      0.858      0.866      0.918      0.696\n"
     ]
    },
    {
     "name": "stderr",
     "output_type": "stream",
     "text": [
      "\n"
     ]
    },
    {
     "name": "stdout",
     "output_type": "stream",
     "text": [
      "\n",
      "      Epoch    GPU_mem   box_loss   cls_loss   dfl_loss  Instances       Size\n"
     ]
    },
    {
     "name": "stderr",
     "output_type": "stream",
     "text": [
      "     32/100         0G      0.838     0.7775      1.186         15        640: 100%|██████████| 40/40 [07:33<00:00, 11.34s/it]\n",
      "                 Class     Images  Instances      Box(P          R      mAP50  mAP50-95): 100%|██████████| 3/3 [00:18<00:00,  6.03s/it]"
     ]
    },
    {
     "name": "stdout",
     "output_type": "stream",
     "text": [
      "                   all         66         75      0.892       0.83      0.902      0.679\n"
     ]
    },
    {
     "name": "stderr",
     "output_type": "stream",
     "text": [
      "\n"
     ]
    },
    {
     "name": "stdout",
     "output_type": "stream",
     "text": [
      "\n",
      "      Epoch    GPU_mem   box_loss   cls_loss   dfl_loss  Instances       Size\n"
     ]
    },
    {
     "name": "stderr",
     "output_type": "stream",
     "text": [
      "     33/100         0G     0.8356     0.7776       1.19         16        640: 100%|██████████| 40/40 [07:45<00:00, 11.65s/it]\n",
      "                 Class     Images  Instances      Box(P          R      mAP50  mAP50-95): 100%|██████████| 3/3 [00:18<00:00,  6.02s/it]"
     ]
    },
    {
     "name": "stdout",
     "output_type": "stream",
     "text": [
      "                   all         66         75      0.904      0.807      0.876      0.682\n"
     ]
    },
    {
     "name": "stderr",
     "output_type": "stream",
     "text": [
      "\n"
     ]
    },
    {
     "name": "stdout",
     "output_type": "stream",
     "text": [
      "\n",
      "      Epoch    GPU_mem   box_loss   cls_loss   dfl_loss  Instances       Size\n"
     ]
    },
    {
     "name": "stderr",
     "output_type": "stream",
     "text": [
      "     34/100         0G      0.866     0.7994      1.217         19        640: 100%|██████████| 40/40 [07:45<00:00, 11.64s/it]\n",
      "                 Class     Images  Instances      Box(P          R      mAP50  mAP50-95): 100%|██████████| 3/3 [00:18<00:00,  6.28s/it]\n"
     ]
    },
    {
     "name": "stdout",
     "output_type": "stream",
     "text": [
      "                   all         66         75      0.844      0.762      0.812      0.515\n",
      "\n",
      "      Epoch    GPU_mem   box_loss   cls_loss   dfl_loss  Instances       Size\n"
     ]
    },
    {
     "name": "stderr",
     "output_type": "stream",
     "text": [
      "     35/100         0G     0.8331     0.7572      1.195         17        640: 100%|██████████| 40/40 [07:57<00:00, 11.94s/it]\n",
      "                 Class     Images  Instances      Box(P          R      mAP50  mAP50-95): 100%|██████████| 3/3 [00:19<00:00,  6.52s/it]"
     ]
    },
    {
     "name": "stdout",
     "output_type": "stream",
     "text": [
      "                   all         66         75       0.84      0.833      0.873      0.677\n"
     ]
    },
    {
     "name": "stderr",
     "output_type": "stream",
     "text": [
      "\n"
     ]
    },
    {
     "name": "stdout",
     "output_type": "stream",
     "text": [
      "\n",
      "      Epoch    GPU_mem   box_loss   cls_loss   dfl_loss  Instances       Size\n"
     ]
    },
    {
     "name": "stderr",
     "output_type": "stream",
     "text": [
      "     36/100         0G     0.8369     0.7498      1.193         15        640: 100%|██████████| 40/40 [07:55<00:00, 11.88s/it]\n",
      "                 Class     Images  Instances      Box(P          R      mAP50  mAP50-95): 100%|██████████| 3/3 [00:19<00:00,  6.43s/it]"
     ]
    },
    {
     "name": "stdout",
     "output_type": "stream",
     "text": [
      "                   all         66         75      0.782      0.761      0.823      0.621\n"
     ]
    },
    {
     "name": "stderr",
     "output_type": "stream",
     "text": [
      "\n"
     ]
    },
    {
     "name": "stdout",
     "output_type": "stream",
     "text": [
      "\n",
      "      Epoch    GPU_mem   box_loss   cls_loss   dfl_loss  Instances       Size\n"
     ]
    },
    {
     "name": "stderr",
     "output_type": "stream",
     "text": [
      "     37/100         0G     0.8247      0.748      1.191         16        640: 100%|██████████| 40/40 [07:54<00:00, 11.87s/it]\n",
      "                 Class     Images  Instances      Box(P          R      mAP50  mAP50-95): 100%|██████████| 3/3 [00:19<00:00,  6.39s/it]"
     ]
    },
    {
     "name": "stdout",
     "output_type": "stream",
     "text": [
      "                   all         66         75      0.893      0.829      0.868      0.649\n"
     ]
    },
    {
     "name": "stderr",
     "output_type": "stream",
     "text": [
      "\n"
     ]
    },
    {
     "name": "stdout",
     "output_type": "stream",
     "text": [
      "\n",
      "      Epoch    GPU_mem   box_loss   cls_loss   dfl_loss  Instances       Size\n"
     ]
    },
    {
     "name": "stderr",
     "output_type": "stream",
     "text": [
      "     38/100         0G     0.8177     0.7367       1.18         20        640: 100%|██████████| 40/40 [07:56<00:00, 11.91s/it]\n",
      "                 Class     Images  Instances      Box(P          R      mAP50  mAP50-95): 100%|██████████| 3/3 [00:17<00:00,  5.93s/it]"
     ]
    },
    {
     "name": "stdout",
     "output_type": "stream",
     "text": [
      "                   all         66         75      0.924      0.861      0.954      0.737\n"
     ]
    },
    {
     "name": "stderr",
     "output_type": "stream",
     "text": [
      "\n"
     ]
    },
    {
     "name": "stdout",
     "output_type": "stream",
     "text": [
      "\n",
      "      Epoch    GPU_mem   box_loss   cls_loss   dfl_loss  Instances       Size\n"
     ]
    },
    {
     "name": "stderr",
     "output_type": "stream",
     "text": [
      "     39/100         0G     0.8061       0.71      1.176         16        640: 100%|██████████| 40/40 [07:47<00:00, 11.68s/it]\n",
      "                 Class     Images  Instances      Box(P          R      mAP50  mAP50-95): 100%|██████████| 3/3 [00:20<00:00,  6.71s/it]"
     ]
    },
    {
     "name": "stdout",
     "output_type": "stream",
     "text": [
      "                   all         66         75      0.873      0.842      0.902      0.707\n"
     ]
    },
    {
     "name": "stderr",
     "output_type": "stream",
     "text": [
      "\n"
     ]
    },
    {
     "name": "stdout",
     "output_type": "stream",
     "text": [
      "\n",
      "      Epoch    GPU_mem   box_loss   cls_loss   dfl_loss  Instances       Size\n"
     ]
    },
    {
     "name": "stderr",
     "output_type": "stream",
     "text": [
      "     40/100         0G       0.81     0.7171      1.168         21        640: 100%|██████████| 40/40 [08:13<00:00, 12.33s/it]\n",
      "                 Class     Images  Instances      Box(P          R      mAP50  mAP50-95): 100%|██████████| 3/3 [00:20<00:00,  6.81s/it]"
     ]
    },
    {
     "name": "stdout",
     "output_type": "stream",
     "text": [
      "                   all         66         75      0.855      0.796      0.904      0.705\n"
     ]
    },
    {
     "name": "stderr",
     "output_type": "stream",
     "text": [
      "\n"
     ]
    },
    {
     "name": "stdout",
     "output_type": "stream",
     "text": [
      "\n",
      "      Epoch    GPU_mem   box_loss   cls_loss   dfl_loss  Instances       Size\n"
     ]
    },
    {
     "name": "stderr",
     "output_type": "stream",
     "text": [
      "     41/100         0G     0.8061     0.6636      1.184         19        640: 100%|██████████| 40/40 [08:52<00:00, 13.31s/it]\n",
      "                 Class     Images  Instances      Box(P          R      mAP50  mAP50-95): 100%|██████████| 3/3 [00:20<00:00,  6.73s/it]"
     ]
    },
    {
     "name": "stdout",
     "output_type": "stream",
     "text": [
      "                   all         66         75      0.875       0.89      0.909      0.721\n"
     ]
    },
    {
     "name": "stderr",
     "output_type": "stream",
     "text": [
      "\n"
     ]
    },
    {
     "name": "stdout",
     "output_type": "stream",
     "text": [
      "\n",
      "      Epoch    GPU_mem   box_loss   cls_loss   dfl_loss  Instances       Size\n"
     ]
    },
    {
     "name": "stderr",
     "output_type": "stream",
     "text": [
      "     42/100         0G     0.7969     0.7021      1.166         20        640: 100%|██████████| 40/40 [08:58<00:00, 13.46s/it]\n",
      "                 Class     Images  Instances      Box(P          R      mAP50  mAP50-95): 100%|██████████| 3/3 [00:20<00:00,  7.00s/it]"
     ]
    },
    {
     "name": "stdout",
     "output_type": "stream",
     "text": [
      "                   all         66         75      0.925      0.864      0.934      0.747\n"
     ]
    },
    {
     "name": "stderr",
     "output_type": "stream",
     "text": [
      "\n"
     ]
    },
    {
     "name": "stdout",
     "output_type": "stream",
     "text": [
      "\n",
      "      Epoch    GPU_mem   box_loss   cls_loss   dfl_loss  Instances       Size\n"
     ]
    },
    {
     "name": "stderr",
     "output_type": "stream",
     "text": [
      "     43/100         0G     0.7752     0.6642      1.149         19        640: 100%|██████████| 40/40 [08:46<00:00, 13.17s/it]\n",
      "                 Class     Images  Instances      Box(P          R      mAP50  mAP50-95): 100%|██████████| 3/3 [00:22<00:00,  7.66s/it]"
     ]
    },
    {
     "name": "stdout",
     "output_type": "stream",
     "text": [
      "                   all         66         75      0.867      0.858        0.9      0.713\n"
     ]
    },
    {
     "name": "stderr",
     "output_type": "stream",
     "text": [
      "\n"
     ]
    },
    {
     "name": "stdout",
     "output_type": "stream",
     "text": [
      "\n",
      "      Epoch    GPU_mem   box_loss   cls_loss   dfl_loss  Instances       Size\n"
     ]
    },
    {
     "name": "stderr",
     "output_type": "stream",
     "text": [
      "     44/100         0G     0.7835     0.6706      1.148         18        640: 100%|██████████| 40/40 [08:52<00:00, 13.30s/it]\n",
      "                 Class     Images  Instances      Box(P          R      mAP50  mAP50-95): 100%|██████████| 3/3 [00:22<00:00,  7.56s/it]"
     ]
    },
    {
     "name": "stdout",
     "output_type": "stream",
     "text": [
      "                   all         66         75      0.904      0.861      0.896       0.71\n"
     ]
    },
    {
     "name": "stderr",
     "output_type": "stream",
     "text": [
      "\n"
     ]
    },
    {
     "name": "stdout",
     "output_type": "stream",
     "text": [
      "\n",
      "      Epoch    GPU_mem   box_loss   cls_loss   dfl_loss  Instances       Size\n"
     ]
    },
    {
     "name": "stderr",
     "output_type": "stream",
     "text": [
      "     45/100         0G      0.789     0.6809      1.154         18        640: 100%|██████████| 40/40 [08:18<00:00, 12.46s/it]\n",
      "                 Class     Images  Instances      Box(P          R      mAP50  mAP50-95): 100%|██████████| 3/3 [00:19<00:00,  6.40s/it]"
     ]
    },
    {
     "name": "stdout",
     "output_type": "stream",
     "text": [
      "                   all         66         75      0.896      0.882      0.903      0.719\n"
     ]
    },
    {
     "name": "stderr",
     "output_type": "stream",
     "text": [
      "\n"
     ]
    },
    {
     "name": "stdout",
     "output_type": "stream",
     "text": [
      "\n",
      "      Epoch    GPU_mem   box_loss   cls_loss   dfl_loss  Instances       Size\n"
     ]
    },
    {
     "name": "stderr",
     "output_type": "stream",
     "text": [
      "     46/100         0G     0.7727     0.6658      1.141         22        640: 100%|██████████| 40/40 [08:04<00:00, 12.11s/it]\n",
      "                 Class     Images  Instances      Box(P          R      mAP50  mAP50-95): 100%|██████████| 3/3 [00:20<00:00,  6.73s/it]"
     ]
    },
    {
     "name": "stdout",
     "output_type": "stream",
     "text": [
      "                   all         66         75      0.867      0.869      0.903      0.718\n"
     ]
    },
    {
     "name": "stderr",
     "output_type": "stream",
     "text": [
      "\n"
     ]
    },
    {
     "name": "stdout",
     "output_type": "stream",
     "text": [
      "\n",
      "      Epoch    GPU_mem   box_loss   cls_loss   dfl_loss  Instances       Size\n"
     ]
    },
    {
     "name": "stderr",
     "output_type": "stream",
     "text": [
      "     47/100         0G     0.7633     0.6418       1.14         13        640: 100%|██████████| 40/40 [08:00<00:00, 12.02s/it]\n",
      "                 Class     Images  Instances      Box(P          R      mAP50  mAP50-95): 100%|██████████| 3/3 [00:18<00:00,  6.13s/it]"
     ]
    },
    {
     "name": "stdout",
     "output_type": "stream",
     "text": [
      "                   all         66         75      0.882      0.912      0.916       0.74\n"
     ]
    },
    {
     "name": "stderr",
     "output_type": "stream",
     "text": [
      "\n"
     ]
    },
    {
     "name": "stdout",
     "output_type": "stream",
     "text": [
      "\n",
      "      Epoch    GPU_mem   box_loss   cls_loss   dfl_loss  Instances       Size\n"
     ]
    },
    {
     "name": "stderr",
     "output_type": "stream",
     "text": [
      "     48/100         0G      0.752     0.6287       1.14         19        640: 100%|██████████| 40/40 [08:01<00:00, 12.04s/it]\n",
      "                 Class     Images  Instances      Box(P          R      mAP50  mAP50-95): 100%|██████████| 3/3 [00:20<00:00,  6.69s/it]"
     ]
    },
    {
     "name": "stdout",
     "output_type": "stream",
     "text": [
      "                   all         66         75      0.922      0.809      0.905      0.729\n"
     ]
    },
    {
     "name": "stderr",
     "output_type": "stream",
     "text": [
      "\n"
     ]
    },
    {
     "name": "stdout",
     "output_type": "stream",
     "text": [
      "\n",
      "      Epoch    GPU_mem   box_loss   cls_loss   dfl_loss  Instances       Size\n"
     ]
    },
    {
     "name": "stderr",
     "output_type": "stream",
     "text": [
      "     49/100         0G     0.7503     0.6672      1.139         13        640: 100%|██████████| 40/40 [08:04<00:00, 12.12s/it]\n",
      "                 Class     Images  Instances      Box(P          R      mAP50  mAP50-95): 100%|██████████| 3/3 [00:18<00:00,  6.10s/it]"
     ]
    },
    {
     "name": "stdout",
     "output_type": "stream",
     "text": [
      "                   all         66         75      0.863      0.803       0.84      0.665\n"
     ]
    },
    {
     "name": "stderr",
     "output_type": "stream",
     "text": [
      "\n"
     ]
    },
    {
     "name": "stdout",
     "output_type": "stream",
     "text": [
      "\n",
      "      Epoch    GPU_mem   box_loss   cls_loss   dfl_loss  Instances       Size\n"
     ]
    },
    {
     "name": "stderr",
     "output_type": "stream",
     "text": [
      "     50/100         0G     0.7806     0.6785      1.153         17        640: 100%|██████████| 40/40 [08:16<00:00, 12.41s/it]\n",
      "                 Class     Images  Instances      Box(P          R      mAP50  mAP50-95): 100%|██████████| 3/3 [00:19<00:00,  6.59s/it]"
     ]
    },
    {
     "name": "stdout",
     "output_type": "stream",
     "text": [
      "                   all         66         75      0.853      0.774      0.821      0.634\n"
     ]
    },
    {
     "name": "stderr",
     "output_type": "stream",
     "text": [
      "\n"
     ]
    },
    {
     "name": "stdout",
     "output_type": "stream",
     "text": [
      "\n",
      "      Epoch    GPU_mem   box_loss   cls_loss   dfl_loss  Instances       Size\n"
     ]
    },
    {
     "name": "stderr",
     "output_type": "stream",
     "text": [
      "     51/100         0G     0.7533      0.662      1.149         18        640: 100%|██████████| 40/40 [08:06<00:00, 12.16s/it]\n",
      "                 Class     Images  Instances      Box(P          R      mAP50  mAP50-95): 100%|██████████| 3/3 [00:18<00:00,  6.30s/it]"
     ]
    },
    {
     "name": "stdout",
     "output_type": "stream",
     "text": [
      "                   all         66         75      0.956      0.864      0.938      0.743\n"
     ]
    },
    {
     "name": "stderr",
     "output_type": "stream",
     "text": [
      "\n"
     ]
    },
    {
     "name": "stdout",
     "output_type": "stream",
     "text": [
      "\n",
      "      Epoch    GPU_mem   box_loss   cls_loss   dfl_loss  Instances       Size\n"
     ]
    },
    {
     "name": "stderr",
     "output_type": "stream",
     "text": [
      "     52/100         0G     0.7197     0.6168      1.109         19        640: 100%|██████████| 40/40 [08:16<00:00, 12.41s/it]\n",
      "                 Class     Images  Instances      Box(P          R      mAP50  mAP50-95): 100%|██████████| 3/3 [00:19<00:00,  6.34s/it]"
     ]
    },
    {
     "name": "stdout",
     "output_type": "stream",
     "text": [
      "                   all         66         75      0.909      0.878        0.9      0.722\n"
     ]
    },
    {
     "name": "stderr",
     "output_type": "stream",
     "text": [
      "\n"
     ]
    },
    {
     "name": "stdout",
     "output_type": "stream",
     "text": [
      "\n",
      "      Epoch    GPU_mem   box_loss   cls_loss   dfl_loss  Instances       Size\n"
     ]
    },
    {
     "name": "stderr",
     "output_type": "stream",
     "text": [
      "     53/100         0G     0.7439     0.6188      1.136         19        640: 100%|██████████| 40/40 [08:10<00:00, 12.27s/it]\n",
      "                 Class     Images  Instances      Box(P          R      mAP50  mAP50-95): 100%|██████████| 3/3 [00:19<00:00,  6.66s/it]"
     ]
    },
    {
     "name": "stdout",
     "output_type": "stream",
     "text": [
      "                   all         66         75      0.845      0.877      0.913      0.759\n"
     ]
    },
    {
     "name": "stderr",
     "output_type": "stream",
     "text": [
      "\n"
     ]
    },
    {
     "name": "stdout",
     "output_type": "stream",
     "text": [
      "\n",
      "      Epoch    GPU_mem   box_loss   cls_loss   dfl_loss  Instances       Size\n"
     ]
    },
    {
     "name": "stderr",
     "output_type": "stream",
     "text": [
      "     54/100         0G     0.7329     0.6069       1.14         15        640: 100%|██████████| 40/40 [08:01<00:00, 12.03s/it]\n",
      "                 Class     Images  Instances      Box(P          R      mAP50  mAP50-95): 100%|██████████| 3/3 [00:19<00:00,  6.59s/it]"
     ]
    },
    {
     "name": "stdout",
     "output_type": "stream",
     "text": [
      "                   all         66         75       0.92      0.878       0.93      0.733\n"
     ]
    },
    {
     "name": "stderr",
     "output_type": "stream",
     "text": [
      "\n"
     ]
    },
    {
     "name": "stdout",
     "output_type": "stream",
     "text": [
      "\n",
      "      Epoch    GPU_mem   box_loss   cls_loss   dfl_loss  Instances       Size\n"
     ]
    },
    {
     "name": "stderr",
     "output_type": "stream",
     "text": [
      "     55/100         0G     0.7263     0.5896      1.121         15        640: 100%|██████████| 40/40 [08:19<00:00, 12.49s/it]\n",
      "                 Class     Images  Instances      Box(P          R      mAP50  mAP50-95): 100%|██████████| 3/3 [00:22<00:00,  7.66s/it]\n"
     ]
    },
    {
     "name": "stdout",
     "output_type": "stream",
     "text": [
      "                   all         66         75      0.921       0.84      0.935      0.765\n",
      "\n",
      "      Epoch    GPU_mem   box_loss   cls_loss   dfl_loss  Instances       Size\n"
     ]
    },
    {
     "name": "stderr",
     "output_type": "stream",
     "text": [
      "     56/100         0G     0.7222     0.6026       1.12         16        640: 100%|██████████| 40/40 [08:14<00:00, 12.36s/it]\n",
      "                 Class     Images  Instances      Box(P          R      mAP50  mAP50-95): 100%|██████████| 3/3 [00:19<00:00,  6.37s/it]"
     ]
    },
    {
     "name": "stdout",
     "output_type": "stream",
     "text": [
      "                   all         66         75      0.918      0.908      0.928      0.742\n"
     ]
    },
    {
     "name": "stderr",
     "output_type": "stream",
     "text": [
      "\n"
     ]
    },
    {
     "name": "stdout",
     "output_type": "stream",
     "text": [
      "\n",
      "      Epoch    GPU_mem   box_loss   cls_loss   dfl_loss  Instances       Size\n"
     ]
    },
    {
     "name": "stderr",
     "output_type": "stream",
     "text": [
      "     57/100         0G     0.7205     0.6091      1.118         13        640: 100%|██████████| 40/40 [08:02<00:00, 12.05s/it]\n",
      "                 Class     Images  Instances      Box(P          R      mAP50  mAP50-95): 100%|██████████| 3/3 [00:19<00:00,  6.39s/it]"
     ]
    },
    {
     "name": "stdout",
     "output_type": "stream",
     "text": [
      "                   all         66         75      0.947      0.913      0.956      0.776\n"
     ]
    },
    {
     "name": "stderr",
     "output_type": "stream",
     "text": [
      "\n"
     ]
    },
    {
     "name": "stdout",
     "output_type": "stream",
     "text": [
      "\n",
      "      Epoch    GPU_mem   box_loss   cls_loss   dfl_loss  Instances       Size\n"
     ]
    },
    {
     "name": "stderr",
     "output_type": "stream",
     "text": [
      "     58/100         0G     0.7025       0.58      1.112         20        640: 100%|██████████| 40/40 [08:03<00:00, 12.09s/it]\n",
      "                 Class     Images  Instances      Box(P          R      mAP50  mAP50-95): 100%|██████████| 3/3 [00:19<00:00,  6.41s/it]"
     ]
    },
    {
     "name": "stdout",
     "output_type": "stream",
     "text": [
      "                   all         66         75      0.904      0.881      0.946       0.74\n"
     ]
    },
    {
     "name": "stderr",
     "output_type": "stream",
     "text": [
      "\n"
     ]
    },
    {
     "name": "stdout",
     "output_type": "stream",
     "text": [
      "\n",
      "      Epoch    GPU_mem   box_loss   cls_loss   dfl_loss  Instances       Size\n"
     ]
    },
    {
     "name": "stderr",
     "output_type": "stream",
     "text": [
      "     59/100         0G     0.7026     0.5739      1.122         21        640: 100%|██████████| 40/40 [08:03<00:00, 12.09s/it]\n",
      "                 Class     Images  Instances      Box(P          R      mAP50  mAP50-95): 100%|██████████| 3/3 [00:19<00:00,  6.41s/it]"
     ]
    },
    {
     "name": "stdout",
     "output_type": "stream",
     "text": [
      "                   all         66         75      0.914      0.916      0.934      0.764\n"
     ]
    },
    {
     "name": "stderr",
     "output_type": "stream",
     "text": [
      "\n"
     ]
    },
    {
     "name": "stdout",
     "output_type": "stream",
     "text": [
      "\n",
      "      Epoch    GPU_mem   box_loss   cls_loss   dfl_loss  Instances       Size\n"
     ]
    },
    {
     "name": "stderr",
     "output_type": "stream",
     "text": [
      "     60/100         0G     0.6931     0.5762      1.109         18        640: 100%|██████████| 40/40 [08:05<00:00, 12.15s/it]\n",
      "                 Class     Images  Instances      Box(P          R      mAP50  mAP50-95): 100%|██████████| 3/3 [00:19<00:00,  6.47s/it]"
     ]
    },
    {
     "name": "stdout",
     "output_type": "stream",
     "text": [
      "                   all         66         75      0.907      0.853      0.895      0.715\n"
     ]
    },
    {
     "name": "stderr",
     "output_type": "stream",
     "text": [
      "\n"
     ]
    },
    {
     "name": "stdout",
     "output_type": "stream",
     "text": [
      "\n",
      "      Epoch    GPU_mem   box_loss   cls_loss   dfl_loss  Instances       Size\n"
     ]
    },
    {
     "name": "stderr",
     "output_type": "stream",
     "text": [
      "     61/100         0G     0.6881     0.5756      1.099         10        640: 100%|██████████| 40/40 [08:03<00:00, 12.08s/it]\n",
      "                 Class     Images  Instances      Box(P          R      mAP50  mAP50-95): 100%|██████████| 3/3 [00:19<00:00,  6.42s/it]"
     ]
    },
    {
     "name": "stdout",
     "output_type": "stream",
     "text": [
      "                   all         66         75      0.862      0.852      0.896      0.723\n"
     ]
    },
    {
     "name": "stderr",
     "output_type": "stream",
     "text": [
      "\n"
     ]
    },
    {
     "name": "stdout",
     "output_type": "stream",
     "text": [
      "\n",
      "      Epoch    GPU_mem   box_loss   cls_loss   dfl_loss  Instances       Size\n"
     ]
    },
    {
     "name": "stderr",
     "output_type": "stream",
     "text": [
      "     62/100         0G     0.7187       0.61      1.119         15        640: 100%|██████████| 40/40 [08:56<00:00, 13.41s/it]\n",
      "                 Class     Images  Instances      Box(P          R      mAP50  mAP50-95): 100%|██████████| 3/3 [00:22<00:00,  7.41s/it]\n"
     ]
    },
    {
     "name": "stdout",
     "output_type": "stream",
     "text": [
      "                   all         66         75      0.914      0.872      0.938      0.763\n",
      "\n",
      "      Epoch    GPU_mem   box_loss   cls_loss   dfl_loss  Instances       Size\n"
     ]
    },
    {
     "name": "stderr",
     "output_type": "stream",
     "text": [
      "     63/100         0G     0.6973     0.5705      1.107         15        640: 100%|██████████| 40/40 [10:33<00:00, 15.83s/it]\n",
      "                 Class     Images  Instances      Box(P          R      mAP50  mAP50-95): 100%|██████████| 3/3 [00:30<00:00, 10.24s/it]\n"
     ]
    },
    {
     "name": "stdout",
     "output_type": "stream",
     "text": [
      "                   all         66         75      0.882      0.904      0.919      0.749\n",
      "\n",
      "      Epoch    GPU_mem   box_loss   cls_loss   dfl_loss  Instances       Size\n"
     ]
    },
    {
     "name": "stderr",
     "output_type": "stream",
     "text": [
      "     64/100         0G     0.6838     0.5597        1.1         13        640: 100%|██████████| 40/40 [11:58<00:00, 17.97s/it]\n",
      "                 Class     Images  Instances      Box(P          R      mAP50  mAP50-95): 100%|██████████| 3/3 [00:27<00:00,  9.26s/it]"
     ]
    },
    {
     "name": "stdout",
     "output_type": "stream",
     "text": [
      "                   all         66         75      0.905      0.814      0.883      0.735\n"
     ]
    },
    {
     "name": "stderr",
     "output_type": "stream",
     "text": [
      "\n"
     ]
    },
    {
     "name": "stdout",
     "output_type": "stream",
     "text": [
      "\n",
      "      Epoch    GPU_mem   box_loss   cls_loss   dfl_loss  Instances       Size\n"
     ]
    },
    {
     "name": "stderr",
     "output_type": "stream",
     "text": [
      "     65/100         0G     0.6768     0.5405      1.092         21        640: 100%|██████████| 40/40 [11:07<00:00, 16.69s/it]\n",
      "                 Class     Images  Instances      Box(P          R      mAP50  mAP50-95): 100%|██████████| 3/3 [00:24<00:00,  8.28s/it]"
     ]
    },
    {
     "name": "stdout",
     "output_type": "stream",
     "text": [
      "                   all         66         75       0.92      0.925      0.943      0.766\n"
     ]
    },
    {
     "name": "stderr",
     "output_type": "stream",
     "text": [
      "\n"
     ]
    },
    {
     "name": "stdout",
     "output_type": "stream",
     "text": [
      "\n",
      "      Epoch    GPU_mem   box_loss   cls_loss   dfl_loss  Instances       Size\n"
     ]
    },
    {
     "name": "stderr",
     "output_type": "stream",
     "text": [
      "     66/100         0G     0.6728     0.5453      1.094         17        640: 100%|██████████| 40/40 [10:02<00:00, 15.07s/it]\n",
      "                 Class     Images  Instances      Box(P          R      mAP50  mAP50-95): 100%|██████████| 3/3 [00:31<00:00, 10.44s/it]"
     ]
    },
    {
     "name": "stdout",
     "output_type": "stream",
     "text": [
      "                   all         66         75      0.943      0.909       0.96      0.795\n"
     ]
    },
    {
     "name": "stderr",
     "output_type": "stream",
     "text": [
      "\n"
     ]
    },
    {
     "name": "stdout",
     "output_type": "stream",
     "text": [
      "\n",
      "      Epoch    GPU_mem   box_loss   cls_loss   dfl_loss  Instances       Size\n"
     ]
    },
    {
     "name": "stderr",
     "output_type": "stream",
     "text": [
      "     67/100         0G     0.6797     0.5587      1.106         15        640: 100%|██████████| 40/40 [11:33<00:00, 17.33s/it]\n",
      "                 Class     Images  Instances      Box(P          R      mAP50  mAP50-95): 100%|██████████| 3/3 [00:27<00:00,  9.24s/it]"
     ]
    },
    {
     "name": "stdout",
     "output_type": "stream",
     "text": [
      "                   all         66         75      0.927      0.924      0.915      0.747\n"
     ]
    },
    {
     "name": "stderr",
     "output_type": "stream",
     "text": [
      "\n"
     ]
    },
    {
     "name": "stdout",
     "output_type": "stream",
     "text": [
      "\n",
      "      Epoch    GPU_mem   box_loss   cls_loss   dfl_loss  Instances       Size\n"
     ]
    },
    {
     "name": "stderr",
     "output_type": "stream",
     "text": [
      "     68/100         0G     0.6843     0.5643      1.102         20        640: 100%|██████████| 40/40 [09:48<00:00, 14.72s/it]\n",
      "                 Class     Images  Instances      Box(P          R      mAP50  mAP50-95): 100%|██████████| 3/3 [00:21<00:00,  7.29s/it]"
     ]
    },
    {
     "name": "stdout",
     "output_type": "stream",
     "text": [
      "                   all         66         75      0.931      0.926      0.933      0.758\n"
     ]
    },
    {
     "name": "stderr",
     "output_type": "stream",
     "text": [
      "\n"
     ]
    },
    {
     "name": "stdout",
     "output_type": "stream",
     "text": [
      "\n",
      "      Epoch    GPU_mem   box_loss   cls_loss   dfl_loss  Instances       Size\n"
     ]
    },
    {
     "name": "stderr",
     "output_type": "stream",
     "text": [
      "     69/100         0G     0.6577     0.5312       1.08         24        640: 100%|██████████| 40/40 [08:14<00:00, 12.37s/it]\n",
      "                 Class     Images  Instances      Box(P          R      mAP50  mAP50-95): 100%|██████████| 3/3 [00:19<00:00,  6.37s/it]"
     ]
    },
    {
     "name": "stdout",
     "output_type": "stream",
     "text": [
      "                   all         66         75      0.947      0.913      0.933       0.77\n"
     ]
    },
    {
     "name": "stderr",
     "output_type": "stream",
     "text": [
      "\n"
     ]
    },
    {
     "name": "stdout",
     "output_type": "stream",
     "text": [
      "\n",
      "      Epoch    GPU_mem   box_loss   cls_loss   dfl_loss  Instances       Size\n"
     ]
    },
    {
     "name": "stderr",
     "output_type": "stream",
     "text": [
      "     70/100         0G     0.6529     0.5336      1.088         16        640: 100%|██████████| 40/40 [07:56<00:00, 11.92s/it]\n",
      "                 Class     Images  Instances      Box(P          R      mAP50  mAP50-95): 100%|██████████| 3/3 [00:19<00:00,  6.37s/it]"
     ]
    },
    {
     "name": "stdout",
     "output_type": "stream",
     "text": [
      "                   all         66         75      0.908      0.919      0.942      0.749\n"
     ]
    },
    {
     "name": "stderr",
     "output_type": "stream",
     "text": [
      "\n"
     ]
    },
    {
     "name": "stdout",
     "output_type": "stream",
     "text": [
      "\n",
      "      Epoch    GPU_mem   box_loss   cls_loss   dfl_loss  Instances       Size\n"
     ]
    },
    {
     "name": "stderr",
     "output_type": "stream",
     "text": [
      "     71/100         0G     0.6592     0.5489      1.086         21        640: 100%|██████████| 40/40 [08:01<00:00, 12.04s/it]\n",
      "                 Class     Images  Instances      Box(P          R      mAP50  mAP50-95): 100%|██████████| 3/3 [00:18<00:00,  6.29s/it]"
     ]
    },
    {
     "name": "stdout",
     "output_type": "stream",
     "text": [
      "                   all         66         75       0.92      0.831      0.909      0.742\n"
     ]
    },
    {
     "name": "stderr",
     "output_type": "stream",
     "text": [
      "\n"
     ]
    },
    {
     "name": "stdout",
     "output_type": "stream",
     "text": [
      "\n",
      "      Epoch    GPU_mem   box_loss   cls_loss   dfl_loss  Instances       Size\n"
     ]
    },
    {
     "name": "stderr",
     "output_type": "stream",
     "text": [
      "     72/100         0G     0.6481     0.5177      1.082         15        640: 100%|██████████| 40/40 [08:05<00:00, 12.13s/it]\n",
      "                 Class     Images  Instances      Box(P          R      mAP50  mAP50-95): 100%|██████████| 3/3 [00:23<00:00,  7.97s/it]\n"
     ]
    },
    {
     "name": "stdout",
     "output_type": "stream",
     "text": [
      "                   all         66         75      0.899      0.901      0.949      0.758\n",
      "\n",
      "      Epoch    GPU_mem   box_loss   cls_loss   dfl_loss  Instances       Size\n"
     ]
    },
    {
     "name": "stderr",
     "output_type": "stream",
     "text": [
      "     73/100         0G     0.6315     0.4948      1.069         17        640: 100%|██████████| 40/40 [08:17<00:00, 12.44s/it]\n",
      "                 Class     Images  Instances      Box(P          R      mAP50  mAP50-95): 100%|██████████| 3/3 [00:19<00:00,  6.51s/it]"
     ]
    },
    {
     "name": "stdout",
     "output_type": "stream",
     "text": [
      "                   all         66         75      0.919      0.898      0.939      0.758\n"
     ]
    },
    {
     "name": "stderr",
     "output_type": "stream",
     "text": [
      "\n"
     ]
    },
    {
     "name": "stdout",
     "output_type": "stream",
     "text": [
      "\n",
      "      Epoch    GPU_mem   box_loss   cls_loss   dfl_loss  Instances       Size\n"
     ]
    },
    {
     "name": "stderr",
     "output_type": "stream",
     "text": [
      "     74/100         0G     0.6445     0.4857      1.082         15        640: 100%|██████████| 40/40 [07:58<00:00, 11.96s/it]\n",
      "                 Class     Images  Instances      Box(P          R      mAP50  mAP50-95): 100%|██████████| 3/3 [00:19<00:00,  6.34s/it]"
     ]
    },
    {
     "name": "stdout",
     "output_type": "stream",
     "text": [
      "                   all         66         75      0.936      0.888      0.938      0.783\n"
     ]
    },
    {
     "name": "stderr",
     "output_type": "stream",
     "text": [
      "\n"
     ]
    },
    {
     "name": "stdout",
     "output_type": "stream",
     "text": [
      "\n",
      "      Epoch    GPU_mem   box_loss   cls_loss   dfl_loss  Instances       Size\n"
     ]
    },
    {
     "name": "stderr",
     "output_type": "stream",
     "text": [
      "     75/100         0G     0.6152     0.4882      1.074         22        640: 100%|██████████| 40/40 [07:52<00:00, 11.82s/it]\n",
      "                 Class     Images  Instances      Box(P          R      mAP50  mAP50-95): 100%|██████████| 3/3 [00:19<00:00,  6.35s/it]"
     ]
    },
    {
     "name": "stdout",
     "output_type": "stream",
     "text": [
      "                   all         66         75      0.917      0.915      0.944      0.785\n"
     ]
    },
    {
     "name": "stderr",
     "output_type": "stream",
     "text": [
      "\n"
     ]
    },
    {
     "name": "stdout",
     "output_type": "stream",
     "text": [
      "\n",
      "      Epoch    GPU_mem   box_loss   cls_loss   dfl_loss  Instances       Size\n"
     ]
    },
    {
     "name": "stderr",
     "output_type": "stream",
     "text": [
      "     76/100         0G     0.6341     0.4829      1.084         18        640: 100%|██████████| 40/40 [08:00<00:00, 12.01s/it]\n",
      "                 Class     Images  Instances      Box(P          R      mAP50  mAP50-95): 100%|██████████| 3/3 [00:19<00:00,  6.37s/it]"
     ]
    },
    {
     "name": "stdout",
     "output_type": "stream",
     "text": [
      "                   all         66         75      0.939       0.89      0.934      0.754\n"
     ]
    },
    {
     "name": "stderr",
     "output_type": "stream",
     "text": [
      "\n"
     ]
    },
    {
     "name": "stdout",
     "output_type": "stream",
     "text": [
      "\n",
      "      Epoch    GPU_mem   box_loss   cls_loss   dfl_loss  Instances       Size\n"
     ]
    },
    {
     "name": "stderr",
     "output_type": "stream",
     "text": [
      "     77/100         0G      0.631     0.4728      1.081         20        640: 100%|██████████| 40/40 [07:53<00:00, 11.85s/it]\n",
      "                 Class     Images  Instances      Box(P          R      mAP50  mAP50-95): 100%|██████████| 3/3 [00:18<00:00,  6.15s/it]"
     ]
    },
    {
     "name": "stdout",
     "output_type": "stream",
     "text": [
      "                   all         66         75       0.91      0.914      0.916      0.756\n"
     ]
    },
    {
     "name": "stderr",
     "output_type": "stream",
     "text": [
      "\n"
     ]
    },
    {
     "name": "stdout",
     "output_type": "stream",
     "text": [
      "\n",
      "      Epoch    GPU_mem   box_loss   cls_loss   dfl_loss  Instances       Size\n"
     ]
    },
    {
     "name": "stderr",
     "output_type": "stream",
     "text": [
      "     78/100         0G     0.6178     0.5046      1.068         13        640: 100%|██████████| 40/40 [07:56<00:00, 11.91s/it]\n",
      "                 Class     Images  Instances      Box(P          R      mAP50  mAP50-95): 100%|██████████| 3/3 [00:18<00:00,  6.33s/it]"
     ]
    },
    {
     "name": "stdout",
     "output_type": "stream",
     "text": [
      "                   all         66         75      0.948      0.918      0.914      0.752\n"
     ]
    },
    {
     "name": "stderr",
     "output_type": "stream",
     "text": [
      "\n"
     ]
    },
    {
     "name": "stdout",
     "output_type": "stream",
     "text": [
      "\n",
      "      Epoch    GPU_mem   box_loss   cls_loss   dfl_loss  Instances       Size\n"
     ]
    },
    {
     "name": "stderr",
     "output_type": "stream",
     "text": [
      "     79/100         0G     0.6193     0.4709       1.06         25        640: 100%|██████████| 40/40 [07:49<00:00, 11.73s/it]\n",
      "                 Class     Images  Instances      Box(P          R      mAP50  mAP50-95): 100%|██████████| 3/3 [00:17<00:00,  5.77s/it]"
     ]
    },
    {
     "name": "stdout",
     "output_type": "stream",
     "text": [
      "                   all         66         75      0.928      0.938      0.933      0.774\n"
     ]
    },
    {
     "name": "stderr",
     "output_type": "stream",
     "text": [
      "\n"
     ]
    },
    {
     "name": "stdout",
     "output_type": "stream",
     "text": [
      "\n",
      "      Epoch    GPU_mem   box_loss   cls_loss   dfl_loss  Instances       Size\n"
     ]
    },
    {
     "name": "stderr",
     "output_type": "stream",
     "text": [
      "     80/100         0G     0.6193     0.4824      1.073         18        640: 100%|██████████| 40/40 [07:28<00:00, 11.22s/it]\n",
      "                 Class     Images  Instances      Box(P          R      mAP50  mAP50-95): 100%|██████████| 3/3 [00:18<00:00,  6.04s/it]"
     ]
    },
    {
     "name": "stdout",
     "output_type": "stream",
     "text": [
      "                   all         66         75      0.938      0.926      0.938      0.779\n"
     ]
    },
    {
     "name": "stderr",
     "output_type": "stream",
     "text": [
      "\n"
     ]
    },
    {
     "name": "stdout",
     "output_type": "stream",
     "text": [
      "\n",
      "      Epoch    GPU_mem   box_loss   cls_loss   dfl_loss  Instances       Size\n"
     ]
    },
    {
     "name": "stderr",
     "output_type": "stream",
     "text": [
      "     81/100         0G     0.6049     0.4805      1.065         20        640: 100%|██████████| 40/40 [07:18<00:00, 10.96s/it]\n",
      "                 Class     Images  Instances      Box(P          R      mAP50  mAP50-95): 100%|██████████| 3/3 [00:17<00:00,  5.73s/it]"
     ]
    },
    {
     "name": "stdout",
     "output_type": "stream",
     "text": [
      "                   all         66         75      0.949      0.909      0.945      0.769\n"
     ]
    },
    {
     "name": "stderr",
     "output_type": "stream",
     "text": [
      "\n"
     ]
    },
    {
     "name": "stdout",
     "output_type": "stream",
     "text": [
      "\n",
      "      Epoch    GPU_mem   box_loss   cls_loss   dfl_loss  Instances       Size\n"
     ]
    },
    {
     "name": "stderr",
     "output_type": "stream",
     "text": [
      "     82/100         0G     0.5949     0.4498      1.045         14        640: 100%|██████████| 40/40 [07:14<00:00, 10.87s/it]\n",
      "                 Class     Images  Instances      Box(P          R      mAP50  mAP50-95): 100%|██████████| 3/3 [00:17<00:00,  5.72s/it]"
     ]
    },
    {
     "name": "stdout",
     "output_type": "stream",
     "text": [
      "                   all         66         75       0.93      0.939      0.938      0.772\n"
     ]
    },
    {
     "name": "stderr",
     "output_type": "stream",
     "text": [
      "\n"
     ]
    },
    {
     "name": "stdout",
     "output_type": "stream",
     "text": [
      "\n",
      "      Epoch    GPU_mem   box_loss   cls_loss   dfl_loss  Instances       Size\n"
     ]
    },
    {
     "name": "stderr",
     "output_type": "stream",
     "text": [
      "     83/100         0G     0.5862     0.4513      1.052         19        640: 100%|██████████| 40/40 [07:18<00:00, 10.97s/it]\n",
      "                 Class     Images  Instances      Box(P          R      mAP50  mAP50-95): 100%|██████████| 3/3 [00:17<00:00,  5.71s/it]"
     ]
    },
    {
     "name": "stdout",
     "output_type": "stream",
     "text": [
      "                   all         66         75      0.948       0.93      0.939      0.786\n"
     ]
    },
    {
     "name": "stderr",
     "output_type": "stream",
     "text": [
      "\n"
     ]
    },
    {
     "name": "stdout",
     "output_type": "stream",
     "text": [
      "\n",
      "      Epoch    GPU_mem   box_loss   cls_loss   dfl_loss  Instances       Size\n"
     ]
    },
    {
     "name": "stderr",
     "output_type": "stream",
     "text": [
      "     84/100         0G     0.5901     0.4556      1.057         15        640: 100%|██████████| 40/40 [07:14<00:00, 10.85s/it]\n",
      "                 Class     Images  Instances      Box(P          R      mAP50  mAP50-95): 100%|██████████| 3/3 [00:17<00:00,  5.74s/it]"
     ]
    },
    {
     "name": "stdout",
     "output_type": "stream",
     "text": [
      "                   all         66         75      0.941      0.928      0.927      0.787\n"
     ]
    },
    {
     "name": "stderr",
     "output_type": "stream",
     "text": [
      "\n"
     ]
    },
    {
     "name": "stdout",
     "output_type": "stream",
     "text": [
      "\n",
      "      Epoch    GPU_mem   box_loss   cls_loss   dfl_loss  Instances       Size\n"
     ]
    },
    {
     "name": "stderr",
     "output_type": "stream",
     "text": [
      "     85/100         0G     0.5854     0.4563      1.052         16        640: 100%|██████████| 40/40 [07:13<00:00, 10.83s/it]\n",
      "                 Class     Images  Instances      Box(P          R      mAP50  mAP50-95): 100%|██████████| 3/3 [00:17<00:00,  5.93s/it]"
     ]
    },
    {
     "name": "stdout",
     "output_type": "stream",
     "text": [
      "                   all         66         75      0.942       0.93      0.918       0.78\n"
     ]
    },
    {
     "name": "stderr",
     "output_type": "stream",
     "text": [
      "\n"
     ]
    },
    {
     "name": "stdout",
     "output_type": "stream",
     "text": [
      "\n",
      "      Epoch    GPU_mem   box_loss   cls_loss   dfl_loss  Instances       Size\n"
     ]
    },
    {
     "name": "stderr",
     "output_type": "stream",
     "text": [
      "     86/100         0G     0.5808     0.4402      1.043         18        640: 100%|██████████| 40/40 [07:11<00:00, 10.79s/it]\n",
      "                 Class     Images  Instances      Box(P          R      mAP50  mAP50-95): 100%|██████████| 3/3 [00:17<00:00,  5.68s/it]"
     ]
    },
    {
     "name": "stdout",
     "output_type": "stream",
     "text": [
      "                   all         66         75      0.949      0.922      0.914      0.772\n"
     ]
    },
    {
     "name": "stderr",
     "output_type": "stream",
     "text": [
      "\n"
     ]
    },
    {
     "name": "stdout",
     "output_type": "stream",
     "text": [
      "\n",
      "      Epoch    GPU_mem   box_loss   cls_loss   dfl_loss  Instances       Size\n"
     ]
    },
    {
     "name": "stderr",
     "output_type": "stream",
     "text": [
      "     87/100         0G     0.5678     0.4267      1.044         20        640: 100%|██████████| 40/40 [07:13<00:00, 10.84s/it]\n",
      "                 Class     Images  Instances      Box(P          R      mAP50  mAP50-95): 100%|██████████| 3/3 [00:17<00:00,  5.70s/it]"
     ]
    },
    {
     "name": "stdout",
     "output_type": "stream",
     "text": [
      "                   all         66         75      0.943      0.928      0.928      0.784\n"
     ]
    },
    {
     "name": "stderr",
     "output_type": "stream",
     "text": [
      "\n"
     ]
    },
    {
     "name": "stdout",
     "output_type": "stream",
     "text": [
      "\n",
      "      Epoch    GPU_mem   box_loss   cls_loss   dfl_loss  Instances       Size\n"
     ]
    },
    {
     "name": "stderr",
     "output_type": "stream",
     "text": [
      "     88/100         0G     0.5791     0.4354      1.058         19        640: 100%|██████████| 40/40 [07:15<00:00, 10.88s/it]\n",
      "                 Class     Images  Instances      Box(P          R      mAP50  mAP50-95): 100%|██████████| 3/3 [00:16<00:00,  5.65s/it]"
     ]
    },
    {
     "name": "stdout",
     "output_type": "stream",
     "text": [
      "                   all         66         75      0.924      0.933      0.917      0.777\n"
     ]
    },
    {
     "name": "stderr",
     "output_type": "stream",
     "text": [
      "\n"
     ]
    },
    {
     "name": "stdout",
     "output_type": "stream",
     "text": [
      "\n",
      "      Epoch    GPU_mem   box_loss   cls_loss   dfl_loss  Instances       Size\n"
     ]
    },
    {
     "name": "stderr",
     "output_type": "stream",
     "text": [
      "     89/100         0G     0.5764       0.43      1.034         21        640: 100%|██████████| 40/40 [07:12<00:00, 10.81s/it]\n",
      "                 Class     Images  Instances      Box(P          R      mAP50  mAP50-95): 100%|██████████| 3/3 [00:17<00:00,  5.80s/it]"
     ]
    },
    {
     "name": "stdout",
     "output_type": "stream",
     "text": [
      "                   all         66         75      0.932      0.922      0.924      0.776\n"
     ]
    },
    {
     "name": "stderr",
     "output_type": "stream",
     "text": [
      "\n"
     ]
    },
    {
     "name": "stdout",
     "output_type": "stream",
     "text": [
      "\n",
      "      Epoch    GPU_mem   box_loss   cls_loss   dfl_loss  Instances       Size\n"
     ]
    },
    {
     "name": "stderr",
     "output_type": "stream",
     "text": [
      "     90/100         0G     0.5583     0.4446      1.038         19        640: 100%|██████████| 40/40 [07:13<00:00, 10.84s/it]\n",
      "                 Class     Images  Instances      Box(P          R      mAP50  mAP50-95): 100%|██████████| 3/3 [00:17<00:00,  5.69s/it]"
     ]
    },
    {
     "name": "stdout",
     "output_type": "stream",
     "text": [
      "                   all         66         75      0.947      0.919      0.941      0.794\n"
     ]
    },
    {
     "name": "stderr",
     "output_type": "stream",
     "text": [
      "\n"
     ]
    },
    {
     "name": "stdout",
     "output_type": "stream",
     "text": [
      "Closing dataloader mosaic\n",
      "\n",
      "      Epoch    GPU_mem   box_loss   cls_loss   dfl_loss  Instances       Size\n"
     ]
    },
    {
     "name": "stderr",
     "output_type": "stream",
     "text": [
      "     91/100         0G     0.4691     0.3329      1.031          9        640: 100%|██████████| 40/40 [07:12<00:00, 10.80s/it]\n",
      "                 Class     Images  Instances      Box(P          R      mAP50  mAP50-95): 100%|██████████| 3/3 [00:17<00:00,  5.68s/it]"
     ]
    },
    {
     "name": "stdout",
     "output_type": "stream",
     "text": [
      "                   all         66         75      0.945      0.919      0.944      0.794\n"
     ]
    },
    {
     "name": "stderr",
     "output_type": "stream",
     "text": [
      "\n"
     ]
    },
    {
     "name": "stdout",
     "output_type": "stream",
     "text": [
      "\n",
      "      Epoch    GPU_mem   box_loss   cls_loss   dfl_loss  Instances       Size\n"
     ]
    },
    {
     "name": "stderr",
     "output_type": "stream",
     "text": [
      "     92/100         0G     0.4447     0.3008     0.9931          9        640: 100%|██████████| 40/40 [07:11<00:00, 10.78s/it]\n",
      "                 Class     Images  Instances      Box(P          R      mAP50  mAP50-95): 100%|██████████| 3/3 [00:17<00:00,  5.83s/it]"
     ]
    },
    {
     "name": "stdout",
     "output_type": "stream",
     "text": [
      "                   all         66         75      0.922      0.887      0.927      0.777\n"
     ]
    },
    {
     "name": "stderr",
     "output_type": "stream",
     "text": [
      "\n"
     ]
    },
    {
     "name": "stdout",
     "output_type": "stream",
     "text": [
      "\n",
      "      Epoch    GPU_mem   box_loss   cls_loss   dfl_loss  Instances       Size\n"
     ]
    },
    {
     "name": "stderr",
     "output_type": "stream",
     "text": [
      "     93/100         0G     0.4376     0.2928     0.9831          6        640: 100%|██████████| 40/40 [07:11<00:00, 10.79s/it]\n",
      "                 Class     Images  Instances      Box(P          R      mAP50  mAP50-95): 100%|██████████| 3/3 [00:17<00:00,  5.92s/it]"
     ]
    },
    {
     "name": "stdout",
     "output_type": "stream",
     "text": [
      "                   all         66         75      0.938      0.912      0.929      0.787\n"
     ]
    },
    {
     "name": "stderr",
     "output_type": "stream",
     "text": [
      "\n"
     ]
    },
    {
     "name": "stdout",
     "output_type": "stream",
     "text": [
      "\n",
      "      Epoch    GPU_mem   box_loss   cls_loss   dfl_loss  Instances       Size\n"
     ]
    },
    {
     "name": "stderr",
     "output_type": "stream",
     "text": [
      "     94/100         0G     0.4322     0.2935     0.9953          9        640: 100%|██████████| 40/40 [07:11<00:00, 10.80s/it]\n",
      "                 Class     Images  Instances      Box(P          R      mAP50  mAP50-95): 100%|██████████| 3/3 [00:17<00:00,  5.88s/it]"
     ]
    },
    {
     "name": "stdout",
     "output_type": "stream",
     "text": [
      "                   all         66         75      0.948      0.921      0.924      0.782\n"
     ]
    },
    {
     "name": "stderr",
     "output_type": "stream",
     "text": [
      "\n"
     ]
    },
    {
     "name": "stdout",
     "output_type": "stream",
     "text": [
      "\n",
      "      Epoch    GPU_mem   box_loss   cls_loss   dfl_loss  Instances       Size\n"
     ]
    },
    {
     "name": "stderr",
     "output_type": "stream",
     "text": [
      "     95/100         0G     0.4306     0.2884     0.9801          7        640: 100%|██████████| 40/40 [07:11<00:00, 10.79s/it]\n",
      "                 Class     Images  Instances      Box(P          R      mAP50  mAP50-95): 100%|██████████| 3/3 [00:17<00:00,  5.71s/it]"
     ]
    },
    {
     "name": "stdout",
     "output_type": "stream",
     "text": [
      "                   all         66         75      0.949      0.919       0.93      0.773\n"
     ]
    },
    {
     "name": "stderr",
     "output_type": "stream",
     "text": [
      "\n"
     ]
    },
    {
     "name": "stdout",
     "output_type": "stream",
     "text": [
      "\n",
      "      Epoch    GPU_mem   box_loss   cls_loss   dfl_loss  Instances       Size\n"
     ]
    },
    {
     "name": "stderr",
     "output_type": "stream",
     "text": [
      "     96/100         0G     0.4204       0.28     0.9995          8        640: 100%|██████████| 40/40 [07:15<00:00, 10.88s/it]\n",
      "                 Class     Images  Instances      Box(P          R      mAP50  mAP50-95): 100%|██████████| 3/3 [00:17<00:00,  5.80s/it]"
     ]
    },
    {
     "name": "stdout",
     "output_type": "stream",
     "text": [
      "                   all         66         75      0.947      0.892      0.929      0.787\n"
     ]
    },
    {
     "name": "stderr",
     "output_type": "stream",
     "text": [
      "\n"
     ]
    },
    {
     "name": "stdout",
     "output_type": "stream",
     "text": [
      "\n",
      "      Epoch    GPU_mem   box_loss   cls_loss   dfl_loss  Instances       Size\n"
     ]
    },
    {
     "name": "stderr",
     "output_type": "stream",
     "text": [
      "     97/100         0G     0.4212     0.2826     0.9989          7        640: 100%|██████████| 40/40 [07:21<00:00, 11.03s/it]\n",
      "                 Class     Images  Instances      Box(P          R      mAP50  mAP50-95): 100%|██████████| 3/3 [00:17<00:00,  6.00s/it]"
     ]
    },
    {
     "name": "stdout",
     "output_type": "stream",
     "text": [
      "                   all         66         75      0.946      0.919      0.924      0.789\n"
     ]
    },
    {
     "name": "stderr",
     "output_type": "stream",
     "text": [
      "\n"
     ]
    },
    {
     "name": "stdout",
     "output_type": "stream",
     "text": [
      "\n",
      "      Epoch    GPU_mem   box_loss   cls_loss   dfl_loss  Instances       Size\n"
     ]
    },
    {
     "name": "stderr",
     "output_type": "stream",
     "text": [
      "     98/100         0G     0.4057     0.2762     0.9835          7        640: 100%|██████████| 40/40 [07:13<00:00, 10.84s/it]\n",
      "                 Class     Images  Instances      Box(P          R      mAP50  mAP50-95): 100%|██████████| 3/3 [00:17<00:00,  5.71s/it]"
     ]
    },
    {
     "name": "stdout",
     "output_type": "stream",
     "text": [
      "                   all         66         75      0.946      0.919      0.929       0.79\n"
     ]
    },
    {
     "name": "stderr",
     "output_type": "stream",
     "text": [
      "\n"
     ]
    },
    {
     "name": "stdout",
     "output_type": "stream",
     "text": [
      "\n",
      "      Epoch    GPU_mem   box_loss   cls_loss   dfl_loss  Instances       Size\n"
     ]
    },
    {
     "name": "stderr",
     "output_type": "stream",
     "text": [
      "     99/100         0G     0.4025     0.2636      0.968          9        640: 100%|██████████| 40/40 [07:11<00:00, 10.80s/it]\n",
      "                 Class     Images  Instances      Box(P          R      mAP50  mAP50-95): 100%|██████████| 3/3 [00:17<00:00,  5.89s/it]"
     ]
    },
    {
     "name": "stdout",
     "output_type": "stream",
     "text": [
      "                   all         66         75      0.945      0.919      0.925      0.793\n"
     ]
    },
    {
     "name": "stderr",
     "output_type": "stream",
     "text": [
      "\n"
     ]
    },
    {
     "name": "stdout",
     "output_type": "stream",
     "text": [
      "\n",
      "      Epoch    GPU_mem   box_loss   cls_loss   dfl_loss  Instances       Size\n"
     ]
    },
    {
     "name": "stderr",
     "output_type": "stream",
     "text": [
      "    100/100         0G     0.3915     0.2589     0.9762          6        640: 100%|██████████| 40/40 [07:11<00:00, 10.78s/it]\n",
      "                 Class     Images  Instances      Box(P          R      mAP50  mAP50-95): 100%|██████████| 3/3 [00:17<00:00,  5.79s/it]"
     ]
    },
    {
     "name": "stdout",
     "output_type": "stream",
     "text": [
      "                   all         66         75      0.944      0.919      0.926      0.794\n"
     ]
    },
    {
     "name": "stderr",
     "output_type": "stream",
     "text": [
      "\n"
     ]
    },
    {
     "name": "stdout",
     "output_type": "stream",
     "text": [
      "\n",
      "100 epochs completed in 14.279 hours.\n",
      "Optimizer stripped from runs\\detect\\train6\\weights\\last.pt, 18.5MB\n",
      "Optimizer stripped from runs\\detect\\train6\\weights\\best.pt, 18.5MB\n",
      "\n",
      "Validating runs\\detect\\train6\\weights\\best.pt...\n",
      "Ultralytics YOLOv8.1.12 🚀 Python-3.11.6 torch-2.1.1+cu121 CPU (Intel Core(TM) i7-9750H 2.60GHz)\n",
      "YOLOv5s summary (fused): 193 layers, 9112697 parameters, 0 gradients, 23.8 GFLOPs\n"
     ]
    },
    {
     "name": "stderr",
     "output_type": "stream",
     "text": [
      "                 Class     Images  Instances      Box(P          R      mAP50  mAP50-95): 100%|██████████| 3/3 [00:15<00:00,  5.22s/it]\n"
     ]
    },
    {
     "name": "stdout",
     "output_type": "stream",
     "text": [
      "                   all         66         75      0.943      0.909       0.96      0.795\n",
      "           blue bottle         66         30          1      0.836      0.946      0.763\n",
      "            red bottle         66         32      0.961      0.969       0.99       0.85\n",
      "         yellow bottle         66         13      0.868      0.923      0.944      0.772\n",
      "Speed: 3.2ms preprocess, 222.1ms inference, 0.0ms loss, 0.4ms postprocess per image\n",
      "Results saved to \u001b[1mruns\\detect\\train6\u001b[0m\n"
     ]
    }
   ],
   "source": [
    "#training our model into our data\n",
    "# also we are using SGD optimizer we found that it's the best one making convergence and making the loss going down\n",
    "results = final_model.train(data = 'data.yaml', epochs = 100, device = 'cpu', optimizer = 'SGD') # we are training it for 100 epcohs and this will typically take along long time to finish "
   ]
  },
  {
   "cell_type": "markdown",
   "metadata": {},
   "source": [
    "### Model Evaluation and testing on new data"
   ]
  },
  {
   "cell_type": "code",
   "execution_count": 2,
   "metadata": {},
   "outputs": [],
   "source": [
    "# Preprocess frame for YOLO model input\n",
    "def preprocess_frame(frame):\n",
    "    # Resize frame to 640x640\n",
    "    resized_frame = cv2.resize(frame, (640, 640))\n",
    "    \n",
    "    # Normalize pixel values to range [0, 1]\n",
    "    normalized_frame = resized_frame.astype(np.float32) / 255.0\n",
    "     \n",
    "    # Return preprocessed frame\n",
    "    return normalized_frame\n",
    "\n",
    "model_path = os.path.join('.', 'runs', 'detect', 'train6', 'weights', 'best.pt')\n",
    "model = YOLO(model_path)"
   ]
  },
  {
   "cell_type": "markdown",
   "metadata": {},
   "source": [
    "### testing the model on seperate images for  true bottles and fake ones"
   ]
  },
  {
   "cell_type": "code",
   "execution_count": null,
   "metadata": {},
   "outputs": [],
   "source": [
    "with torch.inference_mode():\n",
    "    result = model()"
   ]
  },
  {
   "cell_type": "code",
   "execution_count": 25,
   "metadata": {},
   "outputs": [
    {
     "name": "stdout",
     "output_type": "stream",
     "text": [
      "\n"
     ]
    },
    {
     "name": "stdout",
     "output_type": "stream",
     "text": [
      "0: 480x640 1 red bottle, 194.7ms\n",
      "Speed: 3.0ms preprocess, 194.7ms inference, 6.1ms postprocess per image at shape (1, 3, 480, 640)\n",
      "\n",
      "0: 480x640 1 red bottle, 12.1ms\n",
      "Speed: 0.0ms preprocess, 12.1ms inference, 3.0ms postprocess per image at shape (1, 3, 480, 640)\n"
     ]
    },
    {
     "data": {
      "text/plain": [
       "True"
      ]
     },
     "execution_count": 25,
     "metadata": {},
     "output_type": "execute_result"
    }
   ],
   "source": [
    "# Define the path to the image file\n",
    "image_path = 'C:/Users/omarm/Desktop/test (2).jpg'\n",
    "\n",
    "# Define transformations to be applied to the image\n",
    "transform = transforms.Compose([\n",
    "    transforms.Resize((480, 640)),  # Resize image to the desired size (640x640)\n",
    "    transforms.ToTensor(),           # Convert image to PyTorch tensor\n",
    "    # Add more transformations as needed\n",
    "])\n",
    "\n",
    "# Load the image using PIL (Python Imaging Library)\n",
    "image = Image.open(image_path)\n",
    "image_cv = cv2.imread(image_path)\n",
    "\n",
    "image_width, image_height, color_channel = image_cv.shape\n",
    "# Apply transformations to convert the image to a PyTorch tensor\n",
    "image_tensor = transform(image)\n",
    "\n",
    "# Add an extra dimension to the tensor to represent the batch size (1 in this case)\n",
    "image_tensor = image_tensor.unsqueeze(0)\n",
    "\n",
    "with torch.inference_mode():\n",
    "    predictions = model(image_tensor)[0].boxes.xywhn.tolist()[0]\n",
    "    classes = model(image_tensor)[0].names\n",
    "\n",
    "#predictions\n",
    "x_center, y_center, bbox_width, bbox_height = predictions\n",
    "# x1, y1, x2, y2 = int(x1), int(y1), int(x2), int(y2)\n",
    "\n",
    "x1 = int((x_center - bbox_width / 2) * image_width)\n",
    "y1 = int((y_center - bbox_height / 2)* image_height)\n",
    "x2 = int((x_center + bbox_width / 2) * image_width)\n",
    "y2 = int((y_center + bbox_height / 2)* image_height)\n",
    "image_cv = cv2.rectangle(img = image_cv, pt1 = (x1, y1), pt2 = (x2, y2), color = (255, 0, 255), thickness = 3)\n",
    "cv2.imwrite(image_path,image_cv)\n",
    "\n",
    "# threshold = 0.5\n",
    "# for pred in predictions:\n",
    "#     if pred[4] >= threshold:\n",
    "#         print(pred)\n",
    "\n"
   ]
  },
  {
   "cell_type": "code",
   "execution_count": null,
   "metadata": {},
   "outputs": [],
   "source": []
  },
  {
   "cell_type": "markdown",
   "metadata": {},
   "source": [
    "### using webcam for realtime testing inference"
   ]
  },
  {
   "cell_type": "code",
   "execution_count": 49,
   "metadata": {},
   "outputs": [],
   "source": [
    "# Function to perform inference with YOLO and visualize predictions on the image\n",
    "def visualize_predictions(frame, predictions):\n",
    "\n",
    "   # Get image dimensions\n",
    "    height, width, _ = frame.shape\n",
    "    \n",
    "    # Draw bounding boxes and labels on the image\n",
    "    for pred in predictions:\n",
    "        x_center, y_center, bbox_width, bbox_height, class_id, confidence = pred\n",
    "        \n",
    "        # Convert relative coordinates to absolute coordinates\n",
    "        x1 = int((x_center - bbox_width / 2) * width)\n",
    "        y1 = int((y_center - bbox_height / 2) * height)\n",
    "        x2 = int((x_center + bbox_width / 2) * width)\n",
    "        y2 = int((y_center + bbox_height / 2) * height)\n",
    "        \n",
    "        # Draw bounding box\n",
    "        cv2.rectangle(img = frame, pt1 = (x1, y1), pt2 = (x2, y2), color = (0, 255, 0), thickness = 2)\n",
    "        \n",
    "        # Write class label and confidence\n",
    "        label = f'{class_id}: {confidence:.2f}'\n",
    "        cv2.putText(frame, label, (x1, y1 - 10), cv2.FONT_HERSHEY_SIMPLEX, 0.5, (0, 255, 0), 2)\n",
    "        return frame"
   ]
  },
  {
   "cell_type": "code",
   "execution_count": 4,
   "metadata": {},
   "outputs": [
    {
     "name": "stdout",
     "output_type": "stream",
     "text": [
      "\n",
      "1/1: 0... Success ✅ (inf frames of shape 640x480 at 30.00 FPS)\n",
      "\n",
      "\n",
      "WARNING ⚠️ inference results will accumulate in RAM unless `stream=True` is passed, causing potential out-of-memory\n",
      "errors for large sources or long-running streams and videos. See https://docs.ultralytics.com/modes/predict/ for help.\n",
      "\n",
      "Example:\n",
      "    results = model(source=..., stream=True)  # generator of Results objects\n",
      "    for r in results:\n",
      "        boxes = r.boxes  # Boxes object for bbox outputs\n",
      "        masks = r.masks  # Masks object for segment masks outputs\n",
      "        probs = r.probs  # Class probabilities for classification outputs\n",
      "\n",
      "0: 480x640 1 blue bottle, 17.3ms\n",
      "0: 480x640 (no detections), 13.9ms\n",
      "0: 480x640 (no detections), 18.3ms\n",
      "0: 480x640 (no detections), 11.3ms\n",
      "WARNING ⚠️ Waiting for stream 0\n",
      "0: 480x640 (no detections), 12.7ms\n",
      "0: 480x640 1 blue bottle, 15.3ms\n",
      "0: 480x640 1 blue bottle, 14.1ms\n",
      "0: 480x640 1 blue bottle, 10.0ms\n",
      "0: 480x640 1 blue bottle, 11.0ms\n",
      "0: 480x640 1 blue bottle, 10.9ms\n",
      "0: 480x640 1 blue bottle, 15.3ms\n",
      "0: 480x640 1 blue bottle, 12.0ms\n",
      "0: 480x640 1 blue bottle, 10.0ms\n",
      "WARNING ⚠️ Waiting for stream 0\n",
      "0: 480x640 (no detections), 13.7ms\n",
      "0: 480x640 1 blue bottle, 9.9ms\n",
      "0: 480x640 1 blue bottle, 14.2ms\n",
      "0: 480x640 2 blue bottles, 10.0ms\n",
      "0: 480x640 1 blue bottle, 16.0ms\n",
      "0: 480x640 1 blue bottle, 11.3ms\n",
      "0: 480x640 1 blue bottle, 13.0ms\n",
      "0: 480x640 1 blue bottle, 14.8ms\n",
      "0: 480x640 1 blue bottle, 10.7ms\n",
      "0: 480x640 1 blue bottle, 11.4ms\n",
      "0: 480x640 1 blue bottle, 11.9ms\n",
      "WARNING ⚠️ Waiting for stream 0\n",
      "0: 480x640 1 blue bottle, 10.0ms\n",
      "0: 480x640 1 blue bottle, 11.9ms\n",
      "0: 480x640 1 blue bottle, 12.9ms\n",
      "0: 480x640 1 blue bottle, 12.0ms\n",
      "0: 480x640 1 blue bottle, 10.0ms\n",
      "0: 480x640 1 blue bottle, 9.9ms\n",
      "0: 480x640 1 blue bottle, 15.0ms\n",
      "0: 480x640 1 blue bottle, 15.0ms\n",
      "0: 480x640 1 blue bottle, 10.8ms\n",
      "0: 480x640 1 blue bottle, 15.9ms\n",
      "0: 480x640 1 blue bottle, 12.9ms\n",
      "0: 480x640 1 blue bottle, 14.0ms\n",
      "0: 480x640 1 blue bottle, 12.0ms\n",
      "0: 480x640 (no detections), 16.0ms\n",
      "0: 480x640 (no detections), 16.0ms\n",
      "0: 480x640 1 blue bottle, 11.0ms\n",
      "0: 480x640 (no detections), 13.0ms\n",
      "0: 480x640 (no detections), 12.0ms\n",
      "0: 480x640 (no detections), 15.0ms\n",
      "0: 480x640 (no detections), 11.9ms\n",
      "0: 480x640 1 blue bottle, 12.0ms\n",
      "WARNING ⚠️ Waiting for stream 0\n",
      "0: 480x640 (no detections), 11.0ms\n",
      "0: 480x640 1 blue bottle, 15.0ms\n",
      "0: 480x640 1 blue bottle, 12.0ms\n",
      "0: 480x640 1 blue bottle, 14.9ms\n",
      "0: 480x640 1 blue bottle, 15.0ms\n",
      "0: 480x640 (no detections), 13.0ms\n",
      "WARNING ⚠️ Waiting for stream 0\n",
      "0: 480x640 1 blue bottle, 11.8ms\n",
      "0: 480x640 1 blue bottle, 12.9ms\n",
      "0: 480x640 1 blue bottle, 11.0ms\n",
      "0: 480x640 1 blue bottle, 15.5ms\n",
      "WARNING ⚠️ Waiting for stream 0\n",
      "0: 480x640 1 blue bottle, 14.0ms\n",
      "0: 480x640 (no detections), 13.0ms\n",
      "WARNING ⚠️ Waiting for stream 0\n",
      "0: 480x640 1 blue bottle, 12.9ms\n",
      "WARNING ⚠️ Waiting for stream 0\n",
      "0: 480x640 (no detections), 14.9ms\n",
      "0: 480x640 (no detections), 16.0ms\n",
      "WARNING ⚠️ Waiting for stream 0\n",
      "0: 480x640 (no detections), 10.9ms\n",
      "0: 480x640 (no detections), 15.0ms\n",
      "WARNING ⚠️ Waiting for stream 0\n",
      "0: 480x640 (no detections), 11.4ms\n",
      "0: 480x640 (no detections), 15.0ms\n",
      "WARNING ⚠️ Waiting for stream 0\n",
      "0: 480x640 1 blue bottle, 12.9ms\n",
      "0: 480x640 1 blue bottle, 11.0ms\n",
      "WARNING ⚠️ Waiting for stream 0\n",
      "0: 480x640 1 blue bottle, 16.0ms\n",
      "0: 480x640 1 blue bottle, 11.0ms\n",
      "0: 480x640 1 blue bottle, 12.9ms\n",
      "0: 480x640 1 blue bottle, 15.9ms\n",
      "0: 480x640 1 blue bottle, 10.7ms\n",
      "0: 480x640 1 blue bottle, 10.0ms\n",
      "0: 480x640 1 blue bottle, 17.3ms\n",
      "0: 480x640 1 blue bottle, 10.6ms\n",
      "0: 480x640 1 blue bottle, 15.7ms\n",
      "0: 480x640 1 blue bottle, 12.1ms\n",
      "0: 480x640 1 blue bottle, 11.8ms\n",
      "0: 480x640 1 blue bottle, 10.0ms\n",
      "0: 480x640 1 blue bottle, 11.8ms\n",
      "0: 480x640 1 blue bottle, 14.0ms\n",
      "0: 480x640 1 blue bottle, 10.6ms\n",
      "0: 480x640 1 blue bottle, 12.0ms\n",
      "0: 480x640 1 blue bottle, 10.0ms\n",
      "0: 480x640 1 blue bottle, 10.0ms\n",
      "0: 480x640 1 blue bottle, 14.9ms\n",
      "WARNING ⚠️ Waiting for stream 0\n",
      "0: 480x640 1 blue bottle, 11.5ms\n",
      "0: 480x640 1 blue bottle, 13.9ms\n",
      "WARNING ⚠️ Waiting for stream 0\n",
      "0: 480x640 1 blue bottle, 12.2ms\n",
      "WARNING ⚠️ Waiting for stream 0\n",
      "0: 480x640 1 blue bottle, 14.7ms\n",
      "0: 480x640 2 blue bottles, 15.0ms\n",
      "0: 480x640 (no detections), 11.5ms\n",
      "0: 480x640 (no detections), 12.9ms\n",
      "0: 480x640 2 blue bottles, 10.9ms\n",
      "WARNING ⚠️ Waiting for stream 0\n",
      "0: 480x640 (no detections), 10.0ms\n",
      "WARNING ⚠️ Waiting for stream 0\n",
      "0: 480x640 1 blue bottle, 12.5ms\n",
      "0: 480x640 2 blue bottles, 10.5ms\n",
      "0: 480x640 2 blue bottles, 10.0ms\n",
      "0: 480x640 2 blue bottles, 14.8ms\n",
      "WARNING ⚠️ Waiting for stream 0\n",
      "0: 480x640 1 blue bottle, 10.5ms\n",
      "0: 480x640 1 blue bottle, 15.6ms\n",
      "0: 480x640 1 blue bottle, 10.9ms\n",
      "0: 480x640 2 blue bottles, 13.8ms\n",
      "0: 480x640 1 blue bottle, 10.9ms\n",
      "0: 480x640 1 blue bottle, 10.0ms\n",
      "0: 480x640 2 blue bottles, 14.0ms\n",
      "0: 480x640 2 blue bottles, 10.0ms\n",
      "0: 480x640 1 blue bottle, 14.6ms\n",
      "WARNING ⚠️ Waiting for stream 0\n",
      "0: 480x640 1 blue bottle, 10.0ms\n",
      "0: 480x640 1 blue bottle, 11.0ms\n",
      "WARNING ⚠️ Waiting for stream 0\n",
      "0: 480x640 1 blue bottle, 13.0ms\n",
      "0: 480x640 1 blue bottle, 12.7ms\n",
      "0: 480x640 1 blue bottle, 10.6ms\n",
      "0: 480x640 1 blue bottle, 14.0ms\n",
      "0: 480x640 1 blue bottle, 10.9ms\n",
      "0: 480x640 1 blue bottle, 14.9ms\n",
      "0: 480x640 1 blue bottle, 9.7ms\n",
      "0: 480x640 1 blue bottle, 10.9ms\n",
      "0: 480x640 1 blue bottle, 12.7ms\n",
      "0: 480x640 1 blue bottle, 12.9ms\n",
      "0: 480x640 1 blue bottle, 12.0ms\n",
      "WARNING ⚠️ Waiting for stream 0\n",
      "0: 480x640 1 blue bottle, 13.0ms\n",
      "0: 480x640 1 blue bottle, 12.3ms\n",
      "0: 480x640 (no detections), 10.1ms\n",
      "0: 480x640 (no detections), 10.0ms\n",
      "WARNING ⚠️ Waiting for stream 0\n",
      "0: 480x640 1 blue bottle, 12.0ms\n",
      "WARNING ⚠️ Waiting for stream 0\n",
      "0: 480x640 1 blue bottle, 13.5ms\n",
      "0: 480x640 1 blue bottle, 12.0ms\n",
      "0: 480x640 1 blue bottle, 9.9ms\n",
      "0: 480x640 1 blue bottle, 10.0ms\n",
      "0: 480x640 1 blue bottle, 11.5ms\n",
      "WARNING ⚠️ Waiting for stream 0\n",
      "0: 480x640 1 blue bottle, 12.3ms\n",
      "0: 480x640 1 blue bottle, 12.7ms\n",
      "WARNING ⚠️ Waiting for stream 0\n",
      "0: 480x640 (no detections), 11.0ms\n",
      "0: 480x640 (no detections), 9.0ms\n",
      "0: 480x640 (no detections), 10.0ms\n",
      "WARNING ⚠️ Waiting for stream 0\n",
      "0: 480x640 1 blue bottle, 14.7ms\n",
      "0: 480x640 1 blue bottle, 11.0ms\n",
      "0: 480x640 1 blue bottle, 9.9ms\n",
      "0: 480x640 1 blue bottle, 10.0ms\n",
      "0: 480x640 1 blue bottle, 12.0ms\n",
      "0: 480x640 1 blue bottle, 8.6ms\n",
      "0: 480x640 (no detections), 12.0ms\n",
      "WARNING ⚠️ Waiting for stream 0\n",
      "0: 480x640 1 blue bottle, 12.0ms\n",
      "0: 480x640 1 blue bottle, 9.0ms\n",
      "0: 480x640 1 blue bottle, 10.6ms\n",
      "0: 480x640 1 blue bottle, 11.7ms\n",
      "WARNING ⚠️ Waiting for stream 0\n",
      "0: 480x640 (no detections), 15.9ms\n",
      "0: 480x640 (no detections), 13.0ms\n",
      "WARNING ⚠️ Waiting for stream 0\n",
      "0: 480x640 (no detections), 10.7ms\n",
      "WARNING ⚠️ Waiting for stream 0\n",
      "0: 480x640 (no detections), 9.7ms\n",
      "0: 480x640 (no detections), 15.8ms\n",
      "0: 480x640 (no detections), 13.0ms\n",
      "0: 480x640 (no detections), 11.0ms\n",
      "0: 480x640 (no detections), 9.0ms\n",
      "0: 480x640 (no detections), 12.0ms\n",
      "WARNING ⚠️ Waiting for stream 0\n",
      "0: 480x640 (no detections), 10.0ms\n",
      "0: 480x640 (no detections), 12.7ms\n",
      "0: 480x640 (no detections), 10.0ms\n",
      "0: 480x640 (no detections), 11.2ms\n",
      "WARNING ⚠️ Waiting for stream 0\n",
      "0: 480x640 (no detections), 10.0ms\n",
      "WARNING ⚠️ Waiting for stream 0\n",
      "0: 480x640 (no detections), 14.9ms\n",
      "0: 480x640 (no detections), 12.0ms\n",
      "0: 480x640 (no detections), 14.0ms\n",
      "0: 480x640 (no detections), 10.9ms\n",
      "0: 480x640 (no detections), 9.0ms\n",
      "0: 480x640 (no detections), 10.0ms\n",
      "WARNING ⚠️ Waiting for stream 0\n",
      "0: 480x640 (no detections), 9.6ms\n",
      "0: 480x640 (no detections), 12.1ms\n",
      "0: 480x640 (no detections), 14.5ms\n",
      "0: 480x640 (no detections), 10.9ms\n",
      "0: 480x640 (no detections), 9.9ms\n",
      "0: 480x640 (no detections), 9.9ms\n",
      "WARNING ⚠️ Waiting for stream 0\n",
      "0: 480x640 (no detections), 13.9ms\n",
      "0: 480x640 (no detections), 12.9ms\n",
      "0: 480x640 (no detections), 11.2ms\n",
      "0: 480x640 (no detections), 9.0ms\n",
      "WARNING ⚠️ Waiting for stream 0\n",
      "0: 480x640 (no detections), 10.6ms\n",
      "WARNING ⚠️ Waiting for stream 0\n",
      "0: 480x640 (no detections), 13.0ms\n",
      "0: 480x640 1 blue bottle, 9.9ms\n",
      "0: 480x640 1 blue bottle, 10.9ms\n",
      "0: 480x640 1 blue bottle, 10.5ms\n",
      "0: 480x640 1 blue bottle, 13.0ms\n",
      "0: 480x640 1 blue bottle, 13.0ms\n",
      "0: 480x640 1 blue bottle, 11.2ms\n",
      "0: 480x640 1 blue bottle, 10.9ms\n",
      "0: 480x640 1 blue bottle, 10.0ms\n",
      "0: 480x640 1 blue bottle, 12.9ms\n",
      "0: 480x640 1 blue bottle, 15.6ms\n",
      "0: 480x640 1 blue bottle, 12.9ms\n",
      "0: 480x640 1 blue bottle, 15.0ms\n",
      "0: 480x640 1 blue bottle, 10.1ms\n",
      "0: 480x640 1 blue bottle, 13.7ms\n",
      "0: 480x640 1 blue bottle, 9.9ms\n",
      "0: 480x640 1 blue bottle, 13.9ms\n",
      "WARNING ⚠️ Waiting for stream 0\n",
      "0: 480x640 1 blue bottle, 14.0ms\n",
      "0: 480x640 1 blue bottle, 12.1ms\n",
      "0: 480x640 1 blue bottle, 13.0ms\n",
      "0: 480x640 (no detections), 9.0ms\n",
      "0: 480x640 (no detections), 11.0ms\n",
      "0: 480x640 (no detections), 9.0ms\n",
      "WARNING ⚠️ Waiting for stream 0\n",
      "0: 480x640 (no detections), 8.5ms\n",
      "0: 480x640 (no detections), 10.0ms\n",
      "0: 480x640 (no detections), 9.7ms\n",
      "WARNING ⚠️ Waiting for stream 0\n",
      "0: 480x640 (no detections), 10.0ms\n",
      "0: 480x640 (no detections), 13.9ms\n",
      "0: 480x640 (no detections), 14.1ms\n",
      "0: 480x640 (no detections), 10.0ms\n",
      "0: 480x640 (no detections), 9.0ms\n",
      "0: 480x640 (no detections), 12.0ms\n",
      "0: 480x640 (no detections), 10.0ms\n",
      "0: 480x640 (no detections), 13.0ms\n",
      "0: 480x640 (no detections), 12.0ms\n",
      "0: 480x640 (no detections), 9.7ms\n",
      "WARNING ⚠️ Waiting for stream 0\n",
      "0: 480x640 (no detections), 10.0ms\n",
      "0: 480x640 (no detections), 10.8ms\n",
      "WARNING ⚠️ Waiting for stream 0\n",
      "0: 480x640 (no detections), 12.5ms\n",
      "WARNING ⚠️ Waiting for stream 0\n",
      "0: 480x640 (no detections), 13.9ms\n",
      "0: 480x640 (no detections), 10.0ms\n",
      "0: 480x640 (no detections), 13.3ms\n",
      "0: 480x640 (no detections), 13.9ms\n",
      "0: 480x640 (no detections), 12.0ms\n",
      "WARNING ⚠️ Waiting for stream 0\n",
      "0: 480x640 (no detections), 13.0ms\n",
      "0: 480x640 (no detections), 11.6ms\n",
      "0: 480x640 (no detections), 11.1ms\n",
      "0: 480x640 (no detections), 9.0ms\n",
      "0: 480x640 (no detections), 14.0ms\n",
      "0: 480x640 (no detections), 13.8ms\n",
      "0: 480x640 (no detections), 13.0ms\n",
      "0: 480x640 (no detections), 15.0ms\n",
      "0: 480x640 (no detections), 10.0ms\n",
      "0: 480x640 (no detections), 13.0ms\n",
      "0: 480x640 (no detections), 8.0ms\n",
      "WARNING ⚠️ Waiting for stream 0\n",
      "0: 480x640 (no detections), 14.0ms\n",
      "0: 480x640 (no detections), 11.8ms\n",
      "0: 480x640 (no detections), 12.0ms\n",
      "0: 480x640 (no detections), 9.9ms\n",
      "0: 480x640 (no detections), 13.6ms\n",
      "0: 480x640 (no detections), 9.5ms\n",
      "0: 480x640 (no detections), 10.0ms\n",
      "WARNING ⚠️ Waiting for stream 0\n",
      "0: 480x640 (no detections), 12.9ms\n",
      "0: 480x640 (no detections), 10.7ms\n",
      "0: 480x640 (no detections), 11.2ms\n",
      "0: 480x640 (no detections), 11.0ms\n",
      "0: 480x640 (no detections), 12.9ms\n",
      "0: 480x640 (no detections), 9.0ms\n",
      "WARNING ⚠️ Waiting for stream 0\n",
      "0: 480x640 (no detections), 13.5ms\n",
      "0: 480x640 (no detections), 12.8ms\n",
      "WARNING ⚠️ Waiting for stream 0\n",
      "0: 480x640 (no detections), 14.0ms\n",
      "WARNING ⚠️ Waiting for stream 0\n",
      "0: 480x640 (no detections), 11.0ms\n",
      "0: 480x640 (no detections), 11.9ms\n",
      "0: 480x640 (no detections), 10.9ms\n",
      "0: 480x640 (no detections), 8.0ms\n",
      "0: 480x640 (no detections), 15.1ms\n",
      "0: 480x640 (no detections), 10.8ms\n",
      "WARNING ⚠️ Waiting for stream 0\n",
      "0: 480x640 (no detections), 9.0ms\n",
      "0: 480x640 (no detections), 12.0ms\n",
      "0: 480x640 (no detections), 10.0ms\n",
      "0: 480x640 (no detections), 11.0ms\n",
      "0: 480x640 (no detections), 11.8ms\n",
      "0: 480x640 (no detections), 13.1ms\n",
      "WARNING ⚠️ Waiting for stream 0\n",
      "0: 480x640 (no detections), 9.0ms\n",
      "0: 480x640 (no detections), 10.0ms\n",
      "WARNING ⚠️ Waiting for stream 0\n",
      "0: 480x640 (no detections), 13.5ms\n",
      "0: 480x640 (no detections), 13.0ms\n",
      "0: 480x640 (no detections), 14.0ms\n",
      "0: 480x640 (no detections), 11.7ms\n",
      "0: 480x640 (no detections), 11.0ms\n",
      "0: 480x640 (no detections), 9.9ms\n",
      "0: 480x640 (no detections), 15.0ms\n",
      "0: 480x640 (no detections), 13.0ms\n",
      "0: 480x640 (no detections), 13.0ms\n",
      "WARNING ⚠️ Waiting for stream 0\n",
      "0: 480x640 (no detections), 13.6ms\n",
      "0: 480x640 (no detections), 12.6ms\n",
      "0: 480x640 (no detections), 11.9ms\n",
      "0: 480x640 (no detections), 9.0ms\n",
      "0: 480x640 (no detections), 14.7ms\n",
      "0: 480x640 (no detections), 9.9ms\n",
      "WARNING ⚠️ Waiting for stream 0\n",
      "0: 480x640 (no detections), 13.0ms\n",
      "0: 480x640 (no detections), 10.0ms\n",
      "WARNING ⚠️ Waiting for stream 0\n",
      "0: 480x640 (no detections), 14.5ms\n",
      "WARNING ⚠️ Waiting for stream 0\n",
      "0: 480x640 (no detections), 10.0ms\n",
      "0: 480x640 (no detections), 12.9ms\n",
      "0: 480x640 (no detections), 12.2ms\n",
      "0: 480x640 (no detections), 14.0ms\n",
      "0: 480x640 (no detections), 11.0ms\n",
      "WARNING ⚠️ Waiting for stream 0\n",
      "0: 480x640 (no detections), 15.4ms\n",
      "0: 480x640 (no detections), 11.0ms\n",
      "0: 480x640 (no detections), 11.0ms\n",
      "0: 480x640 1 blue bottle, 9.9ms\n",
      "0: 480x640 1 blue bottle, 14.2ms\n",
      "0: 480x640 1 blue bottle, 10.6ms\n",
      "0: 480x640 1 blue bottle, 10.7ms\n",
      "0: 480x640 1 blue bottle, 9.6ms\n",
      "WARNING ⚠️ Waiting for stream 0\n",
      "0: 480x640 1 blue bottle, 13.8ms\n",
      "0: 480x640 1 blue bottle, 11.1ms\n",
      "0: 480x640 1 blue bottle, 11.1ms\n",
      "0: 480x640 1 blue bottle, 9.0ms\n",
      "WARNING ⚠️ Waiting for stream 0\n",
      "0: 480x640 1 blue bottle, 11.0ms\n",
      "0: 480x640 1 blue bottle, 9.0ms\n",
      "WARNING ⚠️ Waiting for stream 0\n",
      "0: 480x640 1 blue bottle, 15.0ms\n",
      "0: 480x640 1 blue bottle, 13.0ms\n",
      "0: 480x640 1 blue bottle, 11.0ms\n",
      "0: 480x640 (no detections), 10.0ms\n",
      "0: 480x640 (no detections), 10.0ms\n",
      "0: 480x640 (no detections), 11.9ms\n",
      "0: 480x640 (no detections), 10.6ms\n",
      "0: 480x640 (no detections), 9.1ms\n",
      "0: 480x640 1 blue bottle, 12.0ms\n",
      "0: 480x640 1 blue bottle, 9.6ms\n",
      "0: 480x640 1 blue bottle, 11.6ms\n",
      "0: 480x640 1 blue bottle, 9.9ms\n",
      "WARNING ⚠️ Waiting for stream 0\n",
      "0: 480x640 (no detections), 10.0ms\n",
      "0: 480x640 (no detections), 9.6ms\n",
      "WARNING ⚠️ Waiting for stream 0\n",
      "0: 480x640 1 blue bottle, 9.0ms\n",
      "0: 480x640 1 blue bottle, 14.6ms\n",
      "WARNING ⚠️ Waiting for stream 0\n",
      "0: 480x640 1 blue bottle, 9.9ms\n",
      "0: 480x640 1 blue bottle, 10.0ms\n",
      "0: 480x640 1 blue bottle, 9.0ms\n",
      "0: 480x640 1 blue bottle, 9.7ms\n",
      "0: 480x640 1 blue bottle, 8.9ms\n",
      "0: 480x640 1 blue bottle, 13.2ms\n",
      "0: 480x640 2 blue bottles, 12.6ms\n",
      "0: 480x640 2 blue bottles, 13.0ms\n",
      "0: 480x640 (no detections), 10.0ms\n",
      "0: 480x640 (no detections), 9.6ms\n",
      "WARNING ⚠️ Waiting for stream 0\n",
      "0: 480x640 (no detections), 9.0ms\n",
      "0: 480x640 (no detections), 9.8ms\n",
      "WARNING ⚠️ Waiting for stream 0\n",
      "0: 480x640 (no detections), 10.0ms\n",
      "0: 480x640 (no detections), 9.4ms\n",
      "WARNING ⚠️ Waiting for stream 0\n",
      "0: 480x640 1 blue bottle, 10.0ms\n",
      "0: 480x640 1 blue bottle, 13.0ms\n",
      "0: 480x640 1 blue bottle, 12.0ms\n",
      "0: 480x640 1 blue bottle, 14.0ms\n",
      "0: 480x640 1 blue bottle, 10.0ms\n",
      "0: 480x640 1 blue bottle, 9.0ms\n",
      "0: 480x640 1 blue bottle, 9.2ms\n",
      "0: 480x640 1 blue bottle, 9.0ms\n",
      "0: 480x640 1 blue bottle, 9.0ms\n",
      "WARNING ⚠️ Waiting for stream 0\n",
      "0: 480x640 (no detections), 9.0ms\n",
      "0: 480x640 (no detections), 11.0ms\n",
      "WARNING ⚠️ Waiting for stream 0\n",
      "0: 480x640 (no detections), 10.0ms\n",
      "0: 480x640 (no detections), 8.7ms\n",
      "WARNING ⚠️ Waiting for stream 0\n",
      "0: 480x640 1 blue bottle, 12.1ms\n",
      "WARNING ⚠️ Waiting for stream 0\n",
      "0: 480x640 (no detections), 9.9ms\n",
      "0: 480x640 1 blue bottle, 14.1ms\n",
      "WARNING ⚠️ Waiting for stream 0\n",
      "0: 480x640 1 blue bottle, 9.6ms\n",
      "0: 480x640 1 blue bottle, 8.0ms\n",
      "WARNING ⚠️ Waiting for stream 0\n",
      "0: 480x640 1 blue bottle, 8.9ms\n",
      "0: 480x640 1 blue bottle, 10.0ms\n",
      "0: 480x640 1 blue bottle, 10.0ms\n",
      "0: 480x640 1 blue bottle, 13.0ms\n",
      "0: 480x640 (no detections), 10.9ms\n",
      "0: 480x640 (no detections), 11.0ms\n",
      "0: 480x640 (no detections), 12.4ms\n",
      "0: 480x640 (no detections), 15.4ms\n",
      "0: 480x640 1 blue bottle, 12.7ms\n",
      "0: 480x640 1 blue bottle, 10.6ms\n",
      "0: 480x640 1 blue bottle, 9.0ms\n",
      "WARNING ⚠️ Waiting for stream 0\n",
      "0: 480x640 (no detections), 10.7ms\n",
      "0: 480x640 1 blue bottle, 9.8ms\n",
      "0: 480x640 1 blue bottle, 9.0ms\n",
      "0: 480x640 1 blue bottle, 12.0ms\n",
      "0: 480x640 1 blue bottle, 15.0ms\n",
      "0: 480x640 1 blue bottle, 10.0ms\n",
      "0: 480x640 1 blue bottle, 11.0ms\n",
      "0: 480x640 1 blue bottle, 11.0ms\n",
      "WARNING ⚠️ Waiting for stream 0\n",
      "0: 480x640 1 blue bottle, 14.3ms\n",
      "0: 480x640 1 blue bottle, 11.5ms\n",
      "0: 480x640 1 blue bottle, 9.6ms\n",
      "WARNING ⚠️ Waiting for stream 0\n",
      "0: 480x640 1 blue bottle, 17.0ms\n",
      "WARNING ⚠️ Waiting for stream 0\n",
      "0: 480x640 1 blue bottle, 10.0ms\n",
      "0: 480x640 1 blue bottle, 14.0ms\n",
      "0: 480x640 (no detections), 11.0ms\n",
      "0: 480x640 (no detections), 10.7ms\n",
      "WARNING ⚠️ Waiting for stream 0\n",
      "0: 480x640 1 blue bottle, 10.0ms\n",
      "0: 480x640 1 blue bottle, 11.9ms\n",
      "0: 480x640 1 blue bottle, 10.3ms\n",
      "0: 480x640 1 blue bottle, 15.1ms\n",
      "0: 480x640 1 blue bottle, 9.9ms\n",
      "0: 480x640 1 blue bottle, 11.5ms\n",
      "0: 480x640 1 blue bottle, 10.0ms\n",
      "0: 480x640 1 blue bottle, 11.0ms\n",
      "0: 480x640 1 blue bottle, 12.0ms\n",
      "0: 480x640 1 blue bottle, 12.0ms\n",
      "0: 480x640 1 blue bottle, 8.9ms\n",
      "0: 480x640 1 blue bottle, 10.0ms\n",
      "0: 480x640 1 blue bottle, 12.1ms\n",
      "WARNING ⚠️ Waiting for stream 0\n",
      "0: 480x640 1 blue bottle, 10.0ms\n",
      "0: 480x640 1 blue bottle, 11.0ms\n",
      "0: 480x640 1 blue bottle, 9.9ms\n",
      "0: 480x640 1 blue bottle, 12.1ms\n",
      "0: 480x640 1 blue bottle, 10.0ms\n",
      "0: 480x640 1 blue bottle, 9.0ms\n",
      "0: 480x640 1 blue bottle, 12.9ms\n",
      "0: 480x640 1 blue bottle, 15.0ms\n",
      "0: 480x640 1 blue bottle, 9.9ms\n",
      "0: 480x640 1 blue bottle, 11.0ms\n",
      "0: 480x640 1 blue bottle, 9.0ms\n",
      "0: 480x640 (no detections), 13.9ms\n",
      "WARNING ⚠️ Waiting for stream 0\n",
      "0: 480x640 (no detections), 9.0ms\n",
      "0: 480x640 1 blue bottle, 13.0ms\n",
      "0: 480x640 1 blue bottle, 10.0ms\n",
      "0: 480x640 1 blue bottle, 11.0ms\n",
      "0: 480x640 1 blue bottle, 9.8ms\n",
      "0: 480x640 1 blue bottle, 9.0ms\n",
      "0: 480x640 (no detections), 16.0ms\n",
      "0: 480x640 (no detections), 9.0ms\n",
      "0: 480x640 1 blue bottle, 13.6ms\n",
      "WARNING ⚠️ Waiting for stream 0\n",
      "0: 480x640 (no detections), 10.0ms\n",
      "WARNING ⚠️ Waiting for stream 0\n",
      "0: 480x640 1 blue bottle, 14.0ms\n",
      "0: 480x640 1 blue bottle, 10.0ms\n",
      "0: 480x640 1 blue bottle, 9.0ms\n",
      "0: 480x640 1 blue bottle, 8.8ms\n",
      "0: 480x640 1 blue bottle, 10.8ms\n",
      "0: 480x640 1 blue bottle, 10.4ms\n",
      "0: 480x640 1 blue bottle, 8.0ms\n",
      "0: 480x640 1 blue bottle, 12.0ms\n",
      "0: 480x640 1 blue bottle, 19.1ms\n",
      "0: 480x640 1 blue bottle, 12.0ms\n",
      "0: 480x640 1 blue bottle, 9.6ms\n",
      "0: 480x640 1 blue bottle, 9.6ms\n",
      "WARNING ⚠️ Waiting for stream 0\n",
      "0: 480x640 1 blue bottle, 9.0ms\n",
      "0: 480x640 1 blue bottle, 9.0ms\n",
      "0: 480x640 1 blue bottle, 13.8ms\n",
      "0: 480x640 1 blue bottle, 12.5ms\n",
      "0: 480x640 1 blue bottle, 10.0ms\n",
      "0: 480x640 1 blue bottle, 10.3ms\n",
      "0: 480x640 1 blue bottle, 10.0ms\n",
      "0: 480x640 1 blue bottle, 10.5ms\n",
      "0: 480x640 1 blue bottle, 13.0ms\n",
      "0: 480x640 1 blue bottle, 1 yellow bottle, 11.0ms\n",
      "0: 480x640 1 blue bottle, 1 yellow bottle, 10.0ms\n",
      "0: 480x640 1 blue bottle, 1 yellow bottle, 9.0ms\n",
      "WARNING ⚠️ Waiting for stream 0\n",
      "0: 480x640 1 yellow bottle, 11.1ms\n",
      "0: 480x640 1 yellow bottle, 10.0ms\n",
      "0: 480x640 1 yellow bottle, 10.0ms\n",
      "0: 480x640 1 yellow bottle, 12.7ms\n",
      "0: 480x640 1 yellow bottle, 11.0ms\n",
      "0: 480x640 1 yellow bottle, 10.7ms\n",
      "0: 480x640 1 yellow bottle, 10.9ms\n",
      "0: 480x640 1 yellow bottle, 10.0ms\n",
      "0: 480x640 1 yellow bottle, 7.9ms\n",
      "0: 480x640 1 yellow bottle, 11.1ms\n",
      "0: 480x640 1 yellow bottle, 12.9ms\n",
      "WARNING ⚠️ Waiting for stream 0\n",
      "0: 480x640 1 yellow bottle, 15.1ms\n",
      "0: 480x640 1 yellow bottle, 9.8ms\n",
      "0: 480x640 1 yellow bottle, 10.5ms\n",
      "0: 480x640 1 yellow bottle, 10.0ms\n",
      "0: 480x640 1 yellow bottle, 8.0ms\n",
      "WARNING ⚠️ Waiting for stream 0\n",
      "0: 480x640 1 yellow bottle, 10.0ms\n",
      "0: 480x640 1 yellow bottle, 13.0ms\n",
      "0: 480x640 1 yellow bottle, 10.5ms\n",
      "0: 480x640 1 yellow bottle, 13.0ms\n",
      "0: 480x640 1 yellow bottle, 9.5ms\n",
      "0: 480x640 1 yellow bottle, 10.1ms\n",
      "0: 480x640 1 yellow bottle, 10.0ms\n",
      "0: 480x640 1 yellow bottle, 10.0ms\n",
      "0: 480x640 1 yellow bottle, 14.0ms\n",
      "WARNING ⚠️ Waiting for stream 0\n",
      "0: 480x640 1 yellow bottle, 9.6ms\n",
      "0: 480x640 1 yellow bottle, 9.6ms\n",
      "0: 480x640 1 yellow bottle, 9.0ms\n",
      "0: 480x640 1 blue bottle, 1 yellow bottle, 9.5ms\n",
      "0: 480x640 1 blue bottle, 1 yellow bottle, 10.0ms\n",
      "0: 480x640 1 yellow bottle, 13.1ms\n",
      "0: 480x640 1 yellow bottle, 10.0ms\n",
      "0: 480x640 1 yellow bottle, 9.0ms\n",
      "0: 480x640 1 yellow bottle, 9.1ms\n",
      "WARNING ⚠️ Waiting for stream 0\n",
      "0: 480x640 1 yellow bottle, 10.6ms\n",
      "0: 480x640 1 blue bottle, 1 yellow bottle, 9.5ms\n",
      "0: 480x640 1 blue bottle, 1 yellow bottle, 11.5ms\n",
      "0: 480x640 1 blue bottle, 1 yellow bottle, 14.0ms\n",
      "0: 480x640 1 blue bottle, 1 yellow bottle, 10.7ms\n",
      "0: 480x640 1 blue bottle, 1 yellow bottle, 13.0ms\n",
      "WARNING ⚠️ Waiting for stream 0\n",
      "0: 480x640 1 yellow bottle, 10.1ms\n",
      "0: 480x640 1 blue bottle, 1 yellow bottle, 8.0ms\n",
      "0: 480x640 1 blue bottle, 1 yellow bottle, 10.8ms\n",
      "0: 480x640 1 yellow bottle, 12.7ms\n",
      "WARNING ⚠️ Waiting for stream 0\n",
      "0: 480x640 1 blue bottle, 1 yellow bottle, 9.7ms\n",
      "0: 480x640 1 yellow bottle, 13.0ms\n",
      "WARNING ⚠️ Waiting for stream 0\n",
      "0: 480x640 1 blue bottle, 1 yellow bottle, 11.0ms\n",
      "0: 480x640 1 yellow bottle, 10.0ms\n",
      "WARNING ⚠️ Waiting for stream 0\n",
      "0: 480x640 1 yellow bottle, 10.0ms\n",
      "0: 480x640 1 yellow bottle, 12.0ms\n",
      "0: 480x640 1 yellow bottle, 11.0ms\n",
      "0: 480x640 1 yellow bottle, 13.0ms\n",
      "0: 480x640 1 blue bottle, 1 yellow bottle, 9.5ms\n",
      "0: 480x640 1 blue bottle, 1 yellow bottle, 10.9ms\n",
      "0: 480x640 1 blue bottle, 1 yellow bottle, 8.9ms\n",
      "0: 480x640 1 blue bottle, 1 yellow bottle, 10.7ms\n",
      "0: 480x640 1 yellow bottle, 16.0ms\n",
      "WARNING ⚠️ Waiting for stream 0\n",
      "0: 480x640 (no detections), 10.0ms\n",
      "0: 480x640 (no detections), 9.5ms\n",
      "0: 480x640 (no detections), 11.0ms\n",
      "0: 480x640 (no detections), 13.0ms\n",
      "0: 480x640 (no detections), 11.2ms\n",
      "0: 480x640 1 blue bottle, 10.0ms\n",
      "0: 480x640 (no detections), 10.7ms\n",
      "0: 480x640 (no detections), 11.0ms\n",
      "0: 480x640 (no detections), 9.0ms\n",
      "WARNING ⚠️ Waiting for stream 0\n",
      "0: 480x640 (no detections), 10.0ms\n",
      "0: 480x640 1 blue bottle, 12.6ms\n",
      "0: 480x640 1 blue bottle, 13.7ms\n",
      "0: 480x640 1 blue bottle, 9.4ms\n",
      "WARNING ⚠️ Waiting for stream 0\n",
      "0: 480x640 1 blue bottle, 12.3ms\n",
      "0: 480x640 1 blue bottle, 10.0ms\n",
      "0: 480x640 1 blue bottle, 10.0ms\n",
      "0: 480x640 1 blue bottle, 11.0ms\n",
      "0: 480x640 2 blue bottles, 12.0ms\n",
      "0: 480x640 2 blue bottles, 10.9ms\n",
      "0: 480x640 1 blue bottle, 11.0ms\n",
      "0: 480x640 1 blue bottle, 13.7ms\n",
      "0: 480x640 1 blue bottle, 12.0ms\n",
      "0: 480x640 1 blue bottle, 10.0ms\n",
      "0: 480x640 1 blue bottle, 11.0ms\n",
      "0: 480x640 1 blue bottle, 9.0ms\n",
      "0: 480x640 1 blue bottle, 8.5ms\n",
      "0: 480x640 1 blue bottle, 10.0ms\n",
      "0: 480x640 1 blue bottle, 10.0ms\n",
      "0: 480x640 1 blue bottle, 8.0ms\n",
      "0: 480x640 1 blue bottle, 13.4ms\n",
      "0: 480x640 1 blue bottle, 8.9ms\n",
      "0: 480x640 1 blue bottle, 8.0ms\n",
      "0: 480x640 1 blue bottle, 9.0ms\n",
      "0: 480x640 1 blue bottle, 10.0ms\n",
      "0: 480x640 1 blue bottle, 8.0ms\n",
      "0: 480x640 1 blue bottle, 12.4ms\n",
      "0: 480x640 1 blue bottle, 7.9ms\n",
      "0: 480x640 1 blue bottle, 13.2ms\n",
      "0: 480x640 1 blue bottle, 8.9ms\n",
      "0: 480x640 1 blue bottle, 9.0ms\n",
      "0: 480x640 1 blue bottle, 12.6ms\n",
      "0: 480x640 1 blue bottle, 8.9ms\n",
      "0: 480x640 1 blue bottle, 9.7ms\n",
      "0: 480x640 1 blue bottle, 14.0ms\n",
      "0: 480x640 1 blue bottle, 10.0ms\n",
      "0: 480x640 1 blue bottle, 13.0ms\n",
      "0: 480x640 1 blue bottle, 11.1ms\n",
      "0: 480x640 1 blue bottle, 9.0ms\n",
      "0: 480x640 1 blue bottle, 11.0ms\n",
      "0: 480x640 1 blue bottle, 9.0ms\n",
      "0: 480x640 1 blue bottle, 13.7ms\n",
      "0: 480x640 1 blue bottle, 14.8ms\n",
      "0: 480x640 1 blue bottle, 9.0ms\n",
      "0: 480x640 1 blue bottle, 11.0ms\n",
      "0: 480x640 1 blue bottle, 8.9ms\n",
      "0: 480x640 1 blue bottle, 9.5ms\n",
      "0: 480x640 1 blue bottle, 8.9ms\n",
      "0: 480x640 1 blue bottle, 12.6ms\n",
      "0: 480x640 1 blue bottle, 10.0ms\n",
      "0: 480x640 1 blue bottle, 8.0ms\n",
      "0: 480x640 1 blue bottle, 11.0ms\n",
      "0: 480x640 1 blue bottle, 9.9ms\n",
      "0: 480x640 1 blue bottle, 10.0ms\n",
      "0: 480x640 1 blue bottle, 9.8ms\n",
      "0: 480x640 1 blue bottle, 10.0ms\n",
      "0: 480x640 1 blue bottle, 11.0ms\n",
      "0: 480x640 1 blue bottle, 13.0ms\n",
      "0: 480x640 1 blue bottle, 8.0ms\n",
      "0: 480x640 (no detections), 9.1ms\n",
      "0: 480x640 (no detections), 9.0ms\n",
      "0: 480x640 (no detections), 16.6ms\n",
      "0: 480x640 (no detections), 11.1ms\n",
      "0: 480x640 (no detections), 10.0ms\n",
      "0: 480x640 (no detections), 12.4ms\n",
      "0: 480x640 (no detections), 9.0ms\n",
      "0: 480x640 (no detections), 11.9ms\n",
      "0: 480x640 (no detections), 9.0ms\n",
      "0: 480x640 (no detections), 15.4ms\n",
      "0: 480x640 1 blue bottle, 9.0ms\n",
      "0: 480x640 (no detections), 12.9ms\n",
      "0: 480x640 1 blue bottle, 9.5ms\n",
      "0: 480x640 1 blue bottle, 10.0ms\n",
      "0: 480x640 1 blue bottle, 11.1ms\n",
      "0: 480x640 1 blue bottle, 9.0ms\n",
      "0: 480x640 1 blue bottle, 9.0ms\n",
      "0: 480x640 1 blue bottle, 11.8ms\n",
      "0: 480x640 1 blue bottle, 9.0ms\n",
      "0: 480x640 1 blue bottle, 12.4ms\n",
      "0: 480x640 1 blue bottle, 9.0ms\n",
      "0: 480x640 2 blue bottles, 12.0ms\n",
      "0: 480x640 1 blue bottle, 10.0ms\n",
      "0: 480x640 1 blue bottle, 9.9ms\n",
      "0: 480x640 (no detections), 10.0ms\n",
      "0: 480x640 (no detections), 9.1ms\n",
      "0: 480x640 (no detections), 9.3ms\n",
      "0: 480x640 (no detections), 10.0ms\n",
      "0: 480x640 1 blue bottle, 10.0ms\n",
      "0: 480x640 1 blue bottle, 10.5ms\n",
      "0: 480x640 (no detections), 10.0ms\n",
      "0: 480x640 (no detections), 11.0ms\n",
      "0: 480x640 (no detections), 9.9ms\n",
      "0: 480x640 (no detections), 10.0ms\n",
      "0: 480x640 (no detections), 9.0ms\n",
      "0: 480x640 1 blue bottle, 9.9ms\n",
      "0: 480x640 1 blue bottle, 9.0ms\n",
      "0: 480x640 (no detections), 11.0ms\n",
      "0: 480x640 (no detections), 10.0ms\n",
      "0: 480x640 (no detections), 9.5ms\n",
      "0: 480x640 (no detections), 9.9ms\n",
      "0: 480x640 (no detections), 9.0ms\n",
      "0: 480x640 (no detections), 14.4ms\n",
      "0: 480x640 (no detections), 8.5ms\n",
      "0: 480x640 (no detections), 8.5ms\n",
      "0: 480x640 (no detections), 9.7ms\n",
      "0: 480x640 (no detections), 15.8ms\n",
      "0: 480x640 (no detections), 7.9ms\n",
      "WARNING ⚠️ Waiting for stream 0\n",
      "0: 480x640 (no detections), 9.9ms\n",
      "0: 480x640 (no detections), 10.9ms\n",
      "0: 480x640 (no detections), 9.0ms\n",
      "0: 480x640 (no detections), 13.0ms\n",
      "0: 480x640 (no detections), 9.0ms\n",
      "WARNING ⚠️ Waiting for stream 0\n",
      "0: 480x640 (no detections), 13.3ms\n",
      "0: 480x640 (no detections), 11.0ms\n",
      "0: 480x640 (no detections), 9.8ms\n",
      "0: 480x640 (no detections), 9.0ms\n",
      "0: 480x640 (no detections), 9.9ms\n",
      "0: 480x640 (no detections), 12.5ms\n",
      "0: 480x640 (no detections), 14.9ms\n",
      "0: 480x640 (no detections), 8.6ms\n",
      "WARNING ⚠️ Waiting for stream 0\n",
      "0: 480x640 (no detections), 10.0ms\n",
      "0: 480x640 (no detections), 14.5ms\n",
      "0: 480x640 (no detections), 8.8ms\n",
      "0: 480x640 (no detections), 9.0ms\n",
      "0: 480x640 (no detections), 14.1ms\n",
      "WARNING ⚠️ Waiting for stream 0\n",
      "0: 480x640 (no detections), 12.0ms\n",
      "0: 480x640 (no detections), 12.0ms\n",
      "WARNING ⚠️ Waiting for stream 0\n",
      "0: 480x640 (no detections), 9.0ms\n",
      "0: 480x640 (no detections), 9.6ms\n",
      "0: 480x640 (no detections), 10.0ms\n",
      "WARNING ⚠️ Waiting for stream 0\n",
      "0: 480x640 (no detections), 14.1ms\n",
      "0: 480x640 (no detections), 9.5ms\n",
      "0: 480x640 (no detections), 13.0ms\n",
      "0: 480x640 (no detections), 10.0ms\n",
      "0: 480x640 (no detections), 10.0ms\n",
      "0: 480x640 (no detections), 15.9ms\n",
      "WARNING ⚠️ Waiting for stream 0\n",
      "0: 480x640 (no detections), 9.4ms\n",
      "0: 480x640 (no detections), 15.7ms\n",
      "0: 480x640 (no detections), 15.0ms\n",
      "0: 480x640 (no detections), 11.0ms\n",
      "WARNING ⚠️ Waiting for stream 0\n",
      "0: 480x640 1 blue bottle, 13.0ms\n",
      "0: 480x640 (no detections), 11.2ms\n",
      "0: 480x640 (no detections), 9.7ms\n",
      "0: 480x640 (no detections), 11.1ms\n",
      "0: 480x640 (no detections), 15.0ms\n",
      "WARNING ⚠️ Waiting for stream 0\n",
      "0: 480x640 (no detections), 8.7ms\n",
      "0: 480x640 (no detections), 14.0ms\n",
      "0: 480x640 (no detections), 13.0ms\n",
      "0: 480x640 (no detections), 9.3ms\n",
      "0: 480x640 (no detections), 9.4ms\n",
      "0: 480x640 (no detections), 11.0ms\n",
      "0: 480x640 (no detections), 14.1ms\n",
      "0: 480x640 (no detections), 13.0ms\n",
      "0: 480x640 (no detections), 10.9ms\n",
      "0: 480x640 (no detections), 13.0ms\n",
      "0: 480x640 (no detections), 10.1ms\n",
      "0: 480x640 (no detections), 14.0ms\n",
      "0: 480x640 (no detections), 9.0ms\n",
      "WARNING ⚠️ Waiting for stream 0\n",
      "0: 480x640 (no detections), 10.0ms\n",
      "0: 480x640 (no detections), 10.0ms\n",
      "WARNING ⚠️ Waiting for stream 0\n",
      "0: 480x640 (no detections), 8.9ms\n",
      "0: 480x640 (no detections), 15.0ms\n",
      "0: 480x640 (no detections), 14.0ms\n",
      "0: 480x640 (no detections), 11.6ms\n",
      "WARNING ⚠️ Waiting for stream 0\n",
      "0: 480x640 (no detections), 8.2ms\n",
      "0: 480x640 (no detections), 14.6ms\n",
      "0: 480x640 (no detections), 10.1ms\n",
      "0: 480x640 (no detections), 10.9ms\n",
      "WARNING ⚠️ Waiting for stream 0\n",
      "0: 480x640 (no detections), 14.9ms\n",
      "0: 480x640 (no detections), 9.0ms\n",
      "WARNING ⚠️ Waiting for stream 0\n",
      "0: 480x640 (no detections), 8.9ms\n",
      "WARNING ⚠️ Waiting for stream 0\n",
      "0: 480x640 (no detections), 13.0ms\n",
      "0: 480x640 (no detections), 10.9ms\n",
      "0: 480x640 (no detections), 13.9ms\n",
      "0: 480x640 (no detections), 10.0ms\n",
      "0: 480x640 (no detections), 10.0ms\n",
      "0: 480x640 (no detections), 9.0ms\n",
      "WARNING ⚠️ Waiting for stream 0\n",
      "0: 480x640 (no detections), 13.7ms\n",
      "0: 480x640 (no detections), 10.8ms\n",
      "WARNING ⚠️ Waiting for stream 0\n",
      "0: 480x640 (no detections), 13.0ms\n",
      "0: 480x640 (no detections), 12.0ms\n",
      "WARNING ⚠️ Waiting for stream 0\n",
      "0: 480x640 (no detections), 13.6ms\n",
      "0: 480x640 (no detections), 10.8ms\n",
      "WARNING ⚠️ Waiting for stream 0\n",
      "0: 480x640 (no detections), 12.0ms\n",
      "0: 480x640 (no detections), 11.0ms\n",
      "WARNING ⚠️ Waiting for stream 0\n",
      "0: 480x640 (no detections), 10.0ms\n",
      "0: 480x640 (no detections), 10.0ms\n",
      "WARNING ⚠️ Waiting for stream 0\n",
      "0: 480x640 (no detections), 12.1ms\n",
      "0: 480x640 (no detections), 9.9ms\n",
      "0: 480x640 (no detections), 13.9ms\n",
      "0: 480x640 (no detections), 9.9ms\n",
      "WARNING ⚠️ Waiting for stream 0\n",
      "0: 480x640 (no detections), 13.0ms\n",
      "0: 480x640 (no detections), 15.2ms\n",
      "0: 480x640 (no detections), 12.8ms\n",
      "0: 480x640 (no detections), 10.5ms\n",
      "WARNING ⚠️ Waiting for stream 0\n",
      "0: 480x640 (no detections), 14.0ms\n",
      "0: 480x640 (no detections), 10.5ms\n",
      "WARNING ⚠️ Waiting for stream 0\n",
      "0: 480x640 (no detections), 13.0ms\n",
      "WARNING ⚠️ Waiting for stream 0\n",
      "0: 480x640 (no detections), 11.0ms\n",
      "0: 480x640 (no detections), 9.5ms\n",
      "0: 480x640 (no detections), 13.0ms\n",
      "0: 480x640 (no detections), 9.0ms\n",
      "0: 480x640 (no detections), 11.0ms\n",
      "0: 480x640 (no detections), 8.0ms\n",
      "WARNING ⚠️ Waiting for stream 0\n",
      "0: 480x640 (no detections), 12.0ms\n",
      "0: 480x640 (no detections), 9.5ms\n",
      "0: 480x640 (no detections), 9.9ms\n",
      "0: 480x640 (no detections), 10.0ms\n",
      "0: 480x640 (no detections), 14.9ms\n",
      "0: 480x640 (no detections), 14.0ms\n",
      "0: 480x640 (no detections), 9.4ms\n",
      "WARNING ⚠️ Waiting for stream 0\n",
      "0: 480x640 (no detections), 13.0ms\n",
      "0: 480x640 (no detections), 10.0ms\n",
      "WARNING ⚠️ Waiting for stream 0\n",
      "0: 480x640 (no detections), 7.9ms\n",
      "WARNING ⚠️ Waiting for stream 0\n",
      "0: 480x640 (no detections), 11.9ms\n",
      "0: 480x640 (no detections), 9.4ms\n",
      "0: 480x640 (no detections), 14.0ms\n",
      "0: 480x640 (no detections), 10.0ms\n",
      "0: 480x640 (no detections), 14.1ms\n",
      "0: 480x640 (no detections), 9.0ms\n",
      "0: 480x640 (no detections), 12.9ms\n",
      "0: 480x640 (no detections), 9.9ms\n",
      "WARNING ⚠️ Waiting for stream 0\n",
      "0: 480x640 (no detections), 13.9ms\n",
      "0: 480x640 (no detections), 10.4ms\n",
      "WARNING ⚠️ Waiting for stream 0\n",
      "0: 480x640 (no detections), 13.0ms\n",
      "0: 480x640 (no detections), 11.9ms\n",
      "0: 480x640 (no detections), 13.0ms\n",
      "0: 480x640 (no detections), 10.0ms\n",
      "0: 480x640 (no detections), 13.0ms\n",
      "0: 480x640 (no detections), 11.9ms\n",
      "WARNING ⚠️ Waiting for stream 0\n",
      "0: 480x640 (no detections), 11.7ms\n",
      "0: 480x640 (no detections), 11.0ms\n",
      "0: 480x640 (no detections), 9.6ms\n",
      "0: 480x640 (no detections), 10.6ms\n",
      "0: 480x640 (no detections), 10.1ms\n",
      "0: 480x640 (no detections), 9.0ms\n",
      "WARNING ⚠️ Waiting for stream 0\n",
      "0: 480x640 (no detections), 10.4ms\n",
      "0: 480x640 (no detections), 11.0ms\n",
      "0: 480x640 (no detections), 11.1ms\n",
      "0: 480x640 (no detections), 12.8ms\n",
      "0: 480x640 (no detections), 11.6ms\n",
      "0: 480x640 (no detections), 15.6ms\n",
      "0: 480x640 (no detections), 11.7ms\n",
      "0: 480x640 (no detections), 15.0ms\n",
      "0: 480x640 (no detections), 12.9ms\n",
      "0: 480x640 (no detections), 13.7ms\n",
      "0: 480x640 (no detections), 9.9ms\n",
      "WARNING ⚠️ Waiting for stream 0\n",
      "0: 480x640 (no detections), 9.5ms\n",
      "WARNING ⚠️ Waiting for stream 0\n",
      "0: 480x640 (no detections), 15.7ms\n",
      "WARNING ⚠️ Waiting for stream 0\n",
      "0: 480x640 (no detections), 12.0ms\n",
      "0: 480x640 (no detections), 10.0ms\n",
      "WARNING ⚠️ Waiting for stream 0\n",
      "0: 480x640 (no detections), 15.0ms\n",
      "0: 480x640 (no detections), 12.0ms\n",
      "0: 480x640 (no detections), 11.8ms\n",
      "WARNING ⚠️ Waiting for stream 0\n",
      "0: 480x640 (no detections), 12.0ms\n",
      "0: 480x640 (no detections), 10.0ms\n",
      "0: 480x640 (no detections), 12.0ms\n",
      "0: 480x640 (no detections), 10.0ms\n",
      "WARNING ⚠️ Waiting for stream 0\n",
      "0: 480x640 (no detections), 13.8ms\n",
      "WARNING ⚠️ Waiting for stream 0\n",
      "0: 480x640 (no detections), 13.0ms\n",
      "0: 480x640 (no detections), 11.0ms\n",
      "0: 480x640 (no detections), 11.0ms\n",
      "0: 480x640 (no detections), 10.0ms\n",
      "0: 480x640 (no detections), 9.4ms\n",
      "0: 480x640 (no detections), 11.9ms\n",
      "0: 480x640 (no detections), 10.5ms\n",
      "0: 480x640 (no detections), 12.0ms\n",
      "0: 480x640 (no detections), 13.0ms\n",
      "0: 480x640 (no detections), 11.5ms\n",
      "0: 480x640 (no detections), 10.0ms\n",
      "0: 480x640 (no detections), 10.0ms\n",
      "0: 480x640 (no detections), 9.0ms\n",
      "0: 480x640 (no detections), 11.0ms\n",
      "0: 480x640 (no detections), 9.0ms\n",
      "0: 480x640 (no detections), 10.8ms\n",
      "0: 480x640 (no detections), 12.5ms\n",
      "0: 480x640 (no detections), 10.0ms\n",
      "WARNING ⚠️ Waiting for stream 0\n",
      "0: 480x640 (no detections), 9.6ms\n",
      "0: 480x640 (no detections), 10.0ms\n",
      "0: 480x640 (no detections), 10.0ms\n",
      "0: 480x640 (no detections), 10.0ms\n",
      "0: 480x640 (no detections), 9.0ms\n",
      "0: 480x640 (no detections), 10.8ms\n",
      "0: 480x640 (no detections), 14.4ms\n",
      "0: 480x640 (no detections), 13.5ms\n",
      "0: 480x640 (no detections), 13.0ms\n",
      "0: 480x640 (no detections), 15.8ms\n",
      "0: 480x640 (no detections), 17.7ms\n",
      "0: 480x640 (no detections), 14.9ms\n",
      "0: 480x640 (no detections), 12.0ms\n",
      "0: 480x640 (no detections), 12.4ms\n",
      "WARNING ⚠️ Waiting for stream 0\n",
      "0: 480x640 (no detections), 14.9ms\n",
      "0: 480x640 (no detections), 15.8ms\n",
      "0: 480x640 (no detections), 11.2ms\n",
      "0: 480x640 (no detections), 17.2ms\n",
      "0: 480x640 (no detections), 11.5ms\n",
      "0: 480x640 (no detections), 12.0ms\n",
      "0: 480x640 (no detections), 11.0ms\n",
      "0: 480x640 (no detections), 9.5ms\n",
      "0: 480x640 (no detections), 9.1ms\n",
      "0: 480x640 (no detections), 11.0ms\n",
      "0: 480x640 (no detections), 9.0ms\n",
      "WARNING ⚠️ Waiting for stream 0\n",
      "0: 480x640 (no detections), 10.0ms\n",
      "0: 480x640 (no detections), 13.6ms\n",
      "0: 480x640 (no detections), 11.6ms\n",
      "0: 480x640 (no detections), 9.0ms\n",
      "WARNING ⚠️ Waiting for stream 0\n",
      "0: 480x640 (no detections), 11.0ms\n",
      "WARNING ⚠️ Waiting for stream 0\n",
      "0: 480x640 (no detections), 10.9ms\n",
      "0: 480x640 (no detections), 11.0ms\n",
      "0: 480x640 (no detections), 10.0ms\n",
      "0: 480x640 (no detections), 14.8ms\n",
      "0: 480x640 (no detections), 12.3ms\n",
      "0: 480x640 (no detections), 16.7ms\n",
      "0: 480x640 (no detections), 11.0ms\n",
      "0: 480x640 (no detections), 11.9ms\n",
      "0: 480x640 (no detections), 8.9ms\n",
      "0: 480x640 (no detections), 11.0ms\n",
      "0: 480x640 (no detections), 11.7ms\n",
      "0: 480x640 (no detections), 11.0ms\n",
      "0: 480x640 (no detections), 10.6ms\n",
      "0: 480x640 (no detections), 10.0ms\n",
      "WARNING ⚠️ Waiting for stream 0\n",
      "0: 480x640 (no detections), 9.0ms\n",
      "0: 480x640 (no detections), 13.5ms\n",
      "WARNING ⚠️ Waiting for stream 0\n",
      "0: 480x640 (no detections), 9.0ms\n",
      "WARNING ⚠️ Waiting for stream 0\n",
      "0: 480x640 (no detections), 12.9ms\n",
      "WARNING ⚠️ Waiting for stream 0\n",
      "0: 480x640 (no detections), 8.5ms\n",
      "0: 480x640 (no detections), 8.8ms\n",
      "0: 480x640 (no detections), 9.0ms\n",
      "0: 480x640 (no detections), 12.0ms\n",
      "0: 480x640 (no detections), 10.9ms\n",
      "0: 480x640 (no detections), 9.0ms\n",
      "WARNING ⚠️ Waiting for stream 0\n",
      "0: 480x640 (no detections), 12.0ms\n",
      "0: 480x640 (no detections), 9.6ms\n",
      "0: 480x640 (no detections), 12.6ms\n",
      "WARNING ⚠️ Waiting for stream 0\n",
      "0: 480x640 (no detections), 9.0ms\n",
      "0: 480x640 (no detections), 8.9ms\n",
      "0: 480x640 (no detections), 12.9ms\n",
      "WARNING ⚠️ Waiting for stream 0\n",
      "0: 480x640 (no detections), 9.0ms\n",
      "0: 480x640 (no detections), 13.0ms\n",
      "WARNING ⚠️ Waiting for stream 0\n",
      "0: 480x640 (no detections), 12.9ms\n",
      "WARNING ⚠️ Waiting for stream 0\n",
      "0: 480x640 (no detections), 8.9ms\n",
      "0: 480x640 (no detections), 13.0ms\n",
      "0: 480x640 (no detections), 8.9ms\n",
      "WARNING ⚠️ Waiting for stream 0\n",
      "0: 480x640 (no detections), 9.0ms\n",
      "WARNING ⚠️ Waiting for stream 0\n",
      "0: 480x640 (no detections), 13.5ms\n",
      "WARNING ⚠️ Waiting for stream 0\n",
      "0: 480x640 (no detections), 13.9ms\n",
      "WARNING ⚠️ Waiting for stream 0\n",
      "0: 480x640 (no detections), 13.5ms\n",
      "0: 480x640 (no detections), 9.0ms\n",
      "0: 480x640 (no detections), 10.1ms\n",
      "0: 480x640 (no detections), 11.0ms\n",
      "0: 480x640 (no detections), 15.0ms\n",
      "Speed: 1.6ms preprocess, 11.4ms inference, 1.3ms postprocess per image at shape (1, 3, 480, 640)\n",
      "please finish\n"
     ]
    },
    {
     "ename": "AttributeError",
     "evalue": "'YOLO' object has no attribute 'close'",
     "output_type": "error",
     "traceback": [
      "\u001b[1;31m---------------------------------------------------------------------------\u001b[0m",
      "\u001b[1;31mAttributeError\u001b[0m                            Traceback (most recent call last)",
      "Cell \u001b[1;32mIn[4], line 5\u001b[0m\n\u001b[0;32m      1\u001b[0m result \u001b[38;5;241m=\u001b[39m model\u001b[38;5;241m.\u001b[39mpredict(source\u001b[38;5;241m=\u001b[39m\u001b[38;5;124m'\u001b[39m\u001b[38;5;124m0\u001b[39m\u001b[38;5;124m'\u001b[39m, show \u001b[38;5;241m=\u001b[39m \u001b[38;5;28;01mTrue\u001b[39;00m)\n\u001b[0;32m      3\u001b[0m \u001b[38;5;28mprint\u001b[39m(\u001b[38;5;124m\"\u001b[39m\u001b[38;5;124mplease finish\u001b[39m\u001b[38;5;124m\"\u001b[39m)\n\u001b[1;32m----> 5\u001b[0m \u001b[43mmodel\u001b[49m\u001b[38;5;241;43m.\u001b[39;49m\u001b[43mclose\u001b[49m()\n",
      "File \u001b[1;32mc:\\Users\\omarm\\AppData\\Local\\Programs\\Python\\Python311\\Lib\\site-packages\\torch\\nn\\modules\\module.py:1695\u001b[0m, in \u001b[0;36mModule.__getattr__\u001b[1;34m(self, name)\u001b[0m\n\u001b[0;32m   1693\u001b[0m     \u001b[38;5;28;01mif\u001b[39;00m name \u001b[38;5;129;01min\u001b[39;00m modules:\n\u001b[0;32m   1694\u001b[0m         \u001b[38;5;28;01mreturn\u001b[39;00m modules[name]\n\u001b[1;32m-> 1695\u001b[0m \u001b[38;5;28;01mraise\u001b[39;00m \u001b[38;5;167;01mAttributeError\u001b[39;00m(\u001b[38;5;124mf\u001b[39m\u001b[38;5;124m\"\u001b[39m\u001b[38;5;124m'\u001b[39m\u001b[38;5;132;01m{\u001b[39;00m\u001b[38;5;28mtype\u001b[39m(\u001b[38;5;28mself\u001b[39m)\u001b[38;5;241m.\u001b[39m\u001b[38;5;18m__name__\u001b[39m\u001b[38;5;132;01m}\u001b[39;00m\u001b[38;5;124m'\u001b[39m\u001b[38;5;124m object has no attribute \u001b[39m\u001b[38;5;124m'\u001b[39m\u001b[38;5;132;01m{\u001b[39;00mname\u001b[38;5;132;01m}\u001b[39;00m\u001b[38;5;124m'\u001b[39m\u001b[38;5;124m\"\u001b[39m)\n",
      "\u001b[1;31mAttributeError\u001b[0m: 'YOLO' object has no attribute 'close'"
     ]
    }
   ],
   "source": [
    "result = model.predict(source='0', show = True)\n",
    "\n",
    "model.close()"
   ]
  },
  {
   "cell_type": "code",
   "execution_count": null,
   "metadata": {},
   "outputs": [],
   "source": []
  }
 ],
 "metadata": {
  "kernelspec": {
   "display_name": "Python 3",
   "language": "python",
   "name": "python3"
  },
  "language_info": {
   "codemirror_mode": {
    "name": "ipython",
    "version": 3
   },
   "file_extension": ".py",
   "mimetype": "text/x-python",
   "name": "python",
   "nbconvert_exporter": "python",
   "pygments_lexer": "ipython3",
   "version": "3.11.6"
  }
 },
 "nbformat": 4,
 "nbformat_minor": 2
}
